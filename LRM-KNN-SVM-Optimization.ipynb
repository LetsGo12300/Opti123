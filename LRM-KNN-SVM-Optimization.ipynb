{
 "cells": [
  {
   "cell_type": "markdown",
   "metadata": {},
   "source": [
    "## LECTURE 7: Finding the Optimal Parameters for Machine Learning Models\n"
   ]
  },
  {
   "cell_type": "markdown",
   "metadata": {},
   "source": [
    "## Objectives:\n",
    "At the end of this activity, the following questions will be answered:\n",
    "\n",
    "1. How to search for an **optimal tuning parameter**?\n",
    "2. How do you search for **multiple tuning parameters** at once?\n",
    "3. What do you do with those tuning parameters before making **real predictions**?"
   ]
  },
  {
   "cell_type": "markdown",
   "metadata": {},
   "source": [
    "TO CHECK THE VERSION OF LIBRARIES"
   ]
  },
  {
   "cell_type": "code",
   "execution_count": 1,
   "metadata": {},
   "outputs": [
    {
     "name": "stdout",
     "output_type": "stream",
     "text": [
      "Python: 3.7.0 (default, Jun 28 2018, 07:39:16) \n",
      "[Clang 4.0.1 (tags/RELEASE_401/final)]\n",
      "scipy: 1.1.0\n",
      "numpy: 1.15.1\n",
      "matplotlib: 2.2.3\n",
      "pandas: 0.23.4\n",
      "sklearn: 0.19.2\n"
     ]
    }
   ],
   "source": [
    "import sys\n",
    "print('Python: {}'.format(sys.version))\n",
    "# scipy\n",
    "import scipy\n",
    "print('scipy: {}'.format(scipy.__version__))\n",
    "# numpy\n",
    "import numpy\n",
    "print('numpy: {}'.format(numpy.__version__))\n",
    "# matplotlib\n",
    "import matplotlib\n",
    "print('matplotlib: {}'.format(matplotlib.__version__))\n",
    "# pandas\n",
    "import pandas\n",
    "print('pandas: {}'.format(pandas.__version__))\n",
    "# scikit-learn\n",
    "import sklearn\n",
    "print('sklearn: {}'.format(sklearn.__version__))"
   ]
  },
  {
   "cell_type": "markdown",
   "metadata": {},
   "source": [
    "TO IMPORT LIBRARIES"
   ]
  },
  {
   "cell_type": "code",
   "execution_count": 2,
   "metadata": {},
   "outputs": [],
   "source": [
    "import numpy as np\n",
    "import matplotlib.pyplot as plot\n",
    "import pandas as pd\n",
    "\n",
    "%matplotlib inline"
   ]
  },
  {
   "cell_type": "markdown",
   "metadata": {},
   "source": [
    "TO LOAD THE DATASET"
   ]
  },
  {
   "cell_type": "code",
   "execution_count": 3,
   "metadata": {},
   "outputs": [],
   "source": [
    "dataset = pandas.read_excel('/Users/annecatherinevergeldedios/Downloads/RGB-Dataset.xlsx')"
   ]
  },
  {
   "cell_type": "markdown",
   "metadata": {},
   "source": [
    "TO DETERMINE THE DIMENSIONS OF THE DATASET"
   ]
  },
  {
   "cell_type": "code",
   "execution_count": 4,
   "metadata": {},
   "outputs": [
    {
     "name": "stdout",
     "output_type": "stream",
     "text": [
      "(1065, 5)\n"
     ]
    }
   ],
   "source": [
    "print(dataset.shape)"
   ]
  },
  {
   "cell_type": "markdown",
   "metadata": {},
   "source": [
    "TO PEEK AT THE DATA"
   ]
  },
  {
   "cell_type": "code",
   "execution_count": 5,
   "metadata": {},
   "outputs": [
    {
     "name": "stdout",
     "output_type": "stream",
     "text": [
      "          filename           R           G           B          class\n",
      "0   image01_01.png  217.534031  167.670676   15.468636  about to ripe\n",
      "1   image01_02.png  216.593401  140.451902    9.794825           ripe\n",
      "2   image01_03.png  172.674176  162.849902   42.471363         unripe\n",
      "3   image01_04.png  177.004514  128.876667   10.220404  about to ripe\n",
      "4   image01_05.png   49.932179   52.741419    3.984817         unripe\n",
      "5   image02_01.png   98.627146   44.668769   11.534695           ripe\n",
      "6   image02_02.png   74.695093   51.818084    6.723748  about to ripe\n",
      "7   image02_03.png   32.590750   32.629311    7.606695         unripe\n",
      "8   image03_01.png   87.426858  104.113142   60.853297         unripe\n",
      "9   image03_02.png   70.497591   89.643752   45.623294         unripe\n",
      "10  image04_01.png  104.236218   54.784258    9.188351           ripe\n",
      "11  image04_02.png   79.556221   64.094670    5.856941  about to ripe\n",
      "12  image04_03.png   36.406108   37.614059    9.813598         unripe\n",
      "13  image05_01.png  208.420181  207.540778  137.165818         unripe\n",
      "14  image05_02.png  167.652596  170.980275   91.104917         unripe\n",
      "15  image06_01.png   76.928453   94.926687   56.713878         unripe\n",
      "16  image06_02.png   60.056738   74.265971   43.066705         unripe\n",
      "17  image06_04.png   85.999053   83.958320   71.881591         unripe\n",
      "18  image07_01.png  158.135682   44.278620   18.127290           ripe\n",
      "19  image08_01.png  188.118615   81.443148   17.411674           ripe\n"
     ]
    }
   ],
   "source": [
    "print(dataset.head(20))"
   ]
  },
  {
   "cell_type": "markdown",
   "metadata": {},
   "source": [
    "TO SEE THE STATISTICAL SUMMARY"
   ]
  },
  {
   "cell_type": "code",
   "execution_count": 6,
   "metadata": {},
   "outputs": [
    {
     "name": "stdout",
     "output_type": "stream",
     "text": [
      "                 R            G            B\n",
      "count  1065.000000  1065.000000  1065.000000\n",
      "mean    135.955073   101.094652    44.227691\n",
      "std      42.695810    45.492777    28.717246\n",
      "min      12.623125     6.641532     1.542485\n",
      "25%     104.517967    63.896106    21.967157\n",
      "50%     136.539490    98.131627    38.988061\n",
      "75%     166.208437   135.756024    59.232105\n",
      "max     238.679138   228.647370   177.470873\n"
     ]
    }
   ],
   "source": [
    "print(dataset.describe())"
   ]
  },
  {
   "cell_type": "markdown",
   "metadata": {},
   "source": [
    "TO SEE THE CLASS DISTRIBUTION"
   ]
  },
  {
   "cell_type": "code",
   "execution_count": 7,
   "metadata": {},
   "outputs": [
    {
     "name": "stdout",
     "output_type": "stream",
     "text": [
      "Herbal\n",
      "Akapulko          50\n",
      "Ampalaya          50\n",
      "Balbas-pusa       50\n",
      "Bayabas           50\n",
      "Lagundi           50\n",
      "Malunggay         50\n",
      "Niyog-Niyogan     50\n",
      "Oregano           50\n",
      "Sambong           50\n",
      "Tsaang-Gubat      50\n",
      "Ulasimang-Bato    50\n",
      "Yerba-Buena       50\n",
      "dtype: int64\n"
     ]
    }
   ],
   "source": [
    "print(dataset.groupby('Herbal').size())"
   ]
  },
  {
   "cell_type": "markdown",
   "metadata": {},
   "source": [
    "TO SHOW THE UNIVARIATE PLOT (BOX and WHISKER PLOTS)"
   ]
  },
  {
   "cell_type": "code",
   "execution_count": 7,
   "metadata": {},
   "outputs": [
    {
     "data": {
      "image/png": "[encoded data removed]",
      "text/plain": [
       "<Figure size 432x288 with 25 Axes>"
      ]
     },
     "metadata": {
      "needs_background": "light"
     },
     "output_type": "display_data"
    }
   ],
   "source": [
    "dataset.plot(kind='box', subplots=True, layout=(5,5), sharex=False, sharey=False)\n",
    "plot.show()"
   ]
  },
  {
   "cell_type": "markdown",
   "metadata": {},
   "source": [
    "TO SHOW THE HISTOGRAM FOR THE DISTRIBUTION"
   ]
  },
  {
   "cell_type": "code",
   "execution_count": 8,
   "metadata": {},
   "outputs": [
    {
     "data": {
      "image/png": "[encoded data removed]",
      "text/plain": [
       "<Figure size 432x288 with 4 Axes>"
      ]
     },
     "metadata": {
      "needs_background": "light"
     },
     "output_type": "display_data"
    }
   ],
   "source": [
    "dataset.hist()\n",
    "plot.show()"
   ]
  },
  {
   "cell_type": "markdown",
   "metadata": {},
   "source": [
    "FOR THE MULTIVARIATE PLOT"
   ]
  },
  {
   "cell_type": "code",
   "execution_count": 9,
   "metadata": {},
   "outputs": [
    {
     "data": {
      "image/png": "[encoded data removed]",
      "text/plain": [
       "<Figure size 432x288 with 9 Axes>"
      ]
     },
     "metadata": {
      "needs_background": "light"
     },
     "output_type": "display_data"
    }
   ],
   "source": [
    "# For the Scatter Plot Matrix\n",
    "from pandas.plotting import scatter_matrix\n",
    "scatter_matrix(dataset)\n",
    "plot.show()"
   ]
  },
  {
   "cell_type": "markdown",
   "metadata": {},
   "source": [
    "TO CREATE THE MATRIX OF INDEPENDENT VARIABLE, X"
   ]
  },
  {
   "cell_type": "code",
   "execution_count": 10,
   "metadata": {},
   "outputs": [
    {
     "data": {
      "text/plain": [
       "array([[217.53403054, 167.67067559,  15.46863627],\n",
       "       [216.5934006 , 140.4519021 ,   9.79482547],\n",
       "       [172.67417605, 162.84990166,  42.47136301],\n",
       "       ...,\n",
       "       [202.19046307, 117.66551819,  49.47953418],\n",
       "       [208.83491843,  88.76167997,  43.03484901],\n",
       "       [200.61676447, 146.79767938,  53.83855695]])"
      ]
     },
     "execution_count": 10,
     "metadata": {},
     "output_type": "execute_result"
    }
   ],
   "source": [
    "X = dataset.iloc[:, 1:4].values\n",
    "X"
   ]
  },
  {
   "cell_type": "markdown",
   "metadata": {},
   "source": [
    "TO CREATE THE MATRIX OF DEPENDENT VARIABLE, Y"
   ]
  },
  {
   "cell_type": "code",
   "execution_count": 11,
   "metadata": {},
   "outputs": [
    {
     "data": {
      "text/plain": [
       "array(['about to ripe', 'ripe', 'unripe', ..., 'about to ripe', 'ripe',\n",
       "       'about to ripe'], dtype=object)"
      ]
     },
     "execution_count": 11,
     "metadata": {},
     "output_type": "execute_result"
    }
   ],
   "source": [
    "Y = dataset.iloc[:, 4].values\n",
    "Y"
   ]
  },
  {
   "cell_type": "markdown",
   "metadata": {},
   "source": [
    "TO ENCODE THE CATEGORICAL DATA IN THE DEPENDENT VARIABLE, Y"
   ]
  },
  {
   "cell_type": "code",
   "execution_count": 12,
   "metadata": {},
   "outputs": [
    {
     "data": {
      "text/plain": [
       "array([0, 1, 2, ..., 0, 1, 0])"
      ]
     },
     "execution_count": 12,
     "metadata": {},
     "output_type": "execute_result"
    }
   ],
   "source": [
    "from sklearn.preprocessing import LabelEncoder \n",
    "labelencoder_Y = LabelEncoder()\n",
    "Y = labelencoder_Y.fit_transform(Y)\n",
    "Y"
   ]
  },
  {
   "cell_type": "markdown",
   "metadata": {},
   "source": [
    "#### TO SPLIT THE DATASET INTO TRAINING DATASET AND TESTING DATASET"
   ]
  },
  {
   "cell_type": "code",
   "execution_count": 13,
   "metadata": {},
   "outputs": [],
   "source": [
    "from sklearn.model_selection import train_test_split\n",
    "X_train, X_test, Y_train, Y_test = train_test_split(X, Y, test_size=0.20, random_state=0)"
   ]
  },
  {
   "cell_type": "code",
   "execution_count": 14,
   "metadata": {},
   "outputs": [
    {
     "name": "stdout",
     "output_type": "stream",
     "text": [
      "(1065, 3)\n",
      "(1065,)\n"
     ]
    }
   ],
   "source": [
    "# To Show the Shapes of X and Y Data\n",
    "print(X.shape)\n",
    "print(Y.shape)"
   ]
  },
  {
   "cell_type": "code",
   "execution_count": 15,
   "metadata": {},
   "outputs": [
    {
     "name": "stdout",
     "output_type": "stream",
     "text": [
      "(852, 3)\n",
      "(213, 3)\n"
     ]
    }
   ],
   "source": [
    "# To Show the Shapes of the New X Objects\n",
    "print(X_train.shape)\n",
    "print(X_test.shape)"
   ]
  },
  {
   "cell_type": "code",
   "execution_count": 16,
   "metadata": {},
   "outputs": [
    {
     "name": "stdout",
     "output_type": "stream",
     "text": [
      "(852,)\n",
      "(213,)\n"
     ]
    }
   ],
   "source": [
    "# To Show the Shapes of the New Y Objects\n",
    "print(Y_train.shape)\n",
    "print(Y_test.shape)"
   ]
  },
  {
   "cell_type": "markdown",
   "metadata": {},
   "source": [
    "#### TO IMPORT DIFFERENT MACHINE LEARNING MODELS"
   ]
  },
  {
   "cell_type": "code",
   "execution_count": 17,
   "metadata": {},
   "outputs": [],
   "source": [
    "from sklearn.linear_model import LogisticRegression\n",
    "from sklearn.tree import DecisionTreeClassifier\n",
    "from sklearn.neighbors import KNeighborsClassifier\n",
    "from sklearn.discriminant_analysis import LinearDiscriminantAnalysis\n",
    "from sklearn.naive_bayes import GaussianNB\n",
    "from sklearn.svm import SVC\n",
    "from sklearn.neural_network import MLPClassifier"
   ]
  },
  {
   "cell_type": "markdown",
   "metadata": {},
   "source": [
    "###### To Build Different Machine Learning Models"
   ]
  },
  {
   "cell_type": "code",
   "execution_count": 18,
   "metadata": {},
   "outputs": [
    {
     "data": {
      "text/plain": [
       "[('LR',\n",
       "  LogisticRegression(C=1.0, class_weight=None, dual=False, fit_intercept=True,\n",
       "            intercept_scaling=1, max_iter=100, multi_class='ovr', n_jobs=1,\n",
       "            penalty='l2', random_state=None, solver='liblinear', tol=0.0001,\n",
       "            verbose=0, warm_start=False)),\n",
       " ('LDA',\n",
       "  LinearDiscriminantAnalysis(n_components=None, priors=None, shrinkage=None,\n",
       "                solver='svd', store_covariance=False, tol=0.0001)),\n",
       " ('KNN',\n",
       "  KNeighborsClassifier(algorithm='auto', leaf_size=30, metric='minkowski',\n",
       "             metric_params=None, n_jobs=1, n_neighbors=5, p=2,\n",
       "             weights='uniform')),\n",
       " ('CART',\n",
       "  DecisionTreeClassifier(class_weight=None, criterion='gini', max_depth=None,\n",
       "              max_features=None, max_leaf_nodes=None,\n",
       "              min_impurity_decrease=0.0, min_impurity_split=None,\n",
       "              min_samples_leaf=1, min_samples_split=2,\n",
       "              min_weight_fraction_leaf=0.0, presort=False, random_state=None,\n",
       "              splitter='best')),\n",
       " ('NB', GaussianNB(priors=None)),\n",
       " ('SVM', SVC(C=1.0, cache_size=200, class_weight=None, coef0=0.0,\n",
       "    decision_function_shape='ovr', degree=3, gamma='auto', kernel='rbf',\n",
       "    max_iter=-1, probability=False, random_state=None, shrinking=True,\n",
       "    tol=0.001, verbose=False)),\n",
       " ('NN',\n",
       "  MLPClassifier(activation='relu', alpha=0.0001, batch_size='auto', beta_1=0.9,\n",
       "         beta_2=0.999, early_stopping=False, epsilon=1e-08,\n",
       "         hidden_layer_sizes=(100,), learning_rate='constant',\n",
       "         learning_rate_init=0.001, max_iter=200, momentum=0.9,\n",
       "         nesterovs_momentum=True, power_t=0.5, random_state=None,\n",
       "         shuffle=True, solver='adam', tol=0.0001, validation_fraction=0.1,\n",
       "         verbose=False, warm_start=False))]"
      ]
     },
     "execution_count": 18,
     "metadata": {},
     "output_type": "execute_result"
    }
   ],
   "source": [
    "models = []\n",
    "models.append(('LR', LogisticRegression()))\n",
    "models.append(('LDA', LinearDiscriminantAnalysis()))\n",
    "models.append(('KNN', KNeighborsClassifier()))\n",
    "models.append(('CART', DecisionTreeClassifier()))\n",
    "models.append(('NB', GaussianNB()))\n",
    "models.append(('SVM', SVC()))\n",
    "models.append(('NN', MLPClassifier()))\n",
    "models"
   ]
  },
  {
   "cell_type": "markdown",
   "metadata": {},
   "source": [
    "#### To Evaluate Each Model in Turn Using Default Parameters of All Models"
   ]
  },
  {
   "cell_type": "code",
   "execution_count": 19,
   "metadata": {},
   "outputs": [
    {
     "name": "stdout",
     "output_type": "stream",
     "text": [
      "LR: 0.781335 (0.125705)\n",
      "LDA: 0.808658 (0.139179)\n",
      "KNN: 0.793643 (0.135482)\n",
      "CART: 0.729836 (0.132952)\n",
      "NB: 0.725948 (0.119974)\n",
      "SVM: 0.329633 (0.133794)\n",
      "NN: 0.796420 (0.163981)\n"
     ]
    }
   ],
   "source": [
    "# For Test Options and Evaluation Metric\n",
    "from sklearn.model_selection import KFold\n",
    "k_Fold = KFold (n_splits=10, shuffle=False, random_state=0)\n",
    "\n",
    "from sklearn.model_selection import cross_val_score\n",
    "seed = 0\n",
    "scoring = 'accuracy'\n",
    "\n",
    "results = []\n",
    "names = []\n",
    "for name, model in models:\n",
    "\tk_Fold = KFold(n_splits=10, shuffle=False, random_state=seed)\n",
    "\tcv_results = cross_val_score(model, X, Y, cv=k_Fold, scoring=scoring)\n",
    "\tresults.append(cv_results)\n",
    "\tnames.append(name)\n",
    "\tmsg = \"%s: %f (%f)\" % (name, cv_results.mean(), cv_results.std())\n",
    "\tprint(msg)"
   ]
  },
  {
   "cell_type": "markdown",
   "metadata": {},
   "source": [
    "#### To Select the Best Machine Learning Model"
   ]
  },
  {
   "cell_type": "code",
   "execution_count": 20,
   "metadata": {},
   "outputs": [
    {
     "data": {
      "image/png": "[encoded data removed]",
      "text/plain": [
       "<Figure size 432x288 with 1 Axes>"
      ]
     },
     "metadata": {
      "needs_background": "light"
     },
     "output_type": "display_data"
    }
   ],
   "source": [
    "figure = plot.figure()\n",
    "figure.suptitle('Algorithm Comparison')\n",
    "axis = figure.add_subplot(111)\n",
    "plot.boxplot(results)\n",
    "axis.set_xticklabels(names)\n",
    "plot.show()"
   ]
  },
  {
   "cell_type": "markdown",
   "metadata": {},
   "source": [
    "#### A. To Create the Logistic Regression Model "
   ]
  },
  {
   "cell_type": "code",
   "execution_count": 22,
   "metadata": {},
   "outputs": [
    {
     "data": {
      "text/plain": [
       "Text(0,0.5,'Frequency')"
      ]
     },
     "execution_count": 22,
     "metadata": {},
     "output_type": "execute_result"
    },
    {
     "data": {
      "image/png": "[encoded data removed]",
      "text/plain": [
       "<Figure size 432x288 with 1 Axes>"
      ]
     },
     "metadata": {
      "needs_background": "light"
     },
     "output_type": "display_data"
    }
   ],
   "source": [
    "# To Instantiate the Model (Using the Default Parameters)\n",
    "logistic_regression = LogisticRegression(random_state=0)\n",
    "\n",
    "# To Fit the Training Dataset into Logistic Regression Model\n",
    "logistic_regression.fit(X_train, Y_train)\n",
    "\n",
    "# To Predict the Output of the Testing Dataset\n",
    "Y_predict_LogReg = logistic_regression.predict(X_test)\n",
    "Y_predict_LogReg\n",
    "\n",
    "# To Show the Histogram of Predicted Classification\n",
    "plot.hist(Y_predict_LogReg, bins=12)\n",
    "plot.xlim(0, 11)\n",
    "plot.title('Histogram of Predicted Maturity Classification')\n",
    "plot.xlabel('Maturity Classification')\n",
    "plot.ylabel('Frequency')"
   ]
  },
  {
   "cell_type": "markdown",
   "metadata": {},
   "source": [
    "###### To Evaluate the Performance of the Logistic Regression Model"
   ]
  },
  {
   "cell_type": "code",
   "execution_count": 23,
   "metadata": {},
   "outputs": [
    {
     "name": "stdout",
     "output_type": "stream",
     "text": [
      "CONFUSION MATRIX:\n",
      "[[ 7  9 14]\n",
      " [ 3 77  8]\n",
      " [ 1  5 89]]\n"
     ]
    }
   ],
   "source": [
    "# To Show the Confusion Matrix\n",
    "from sklearn.metrics import confusion_matrix\n",
    "print(\"CONFUSION MATRIX:\")\n",
    "print(confusion_matrix(Y_test, Y_predict_LogReg))"
   ]
  },
  {
   "cell_type": "code",
   "execution_count": 24,
   "metadata": {},
   "outputs": [
    {
     "name": "stdout",
     "output_type": "stream",
     "text": [
      "Classification Accuracy: 0.8122\n",
      "\n"
     ]
    }
   ],
   "source": [
    "# For the Classification Accuracy\n",
    "from sklearn.metrics import accuracy_score\n",
    "classification_accuracy = accuracy_score(Y_test, Y_predict_LogReg)\n",
    "print('Classification Accuracy: %.4f'\n",
    "      % classification_accuracy)\n",
    "print('')"
   ]
  },
  {
   "cell_type": "code",
   "execution_count": 25,
   "metadata": {},
   "outputs": [
    {
     "name": "stdout",
     "output_type": "stream",
     "text": [
      "CLASSIFICATION REPORT:\n",
      "             precision    recall  f1-score   support\n",
      "\n",
      "          0       0.64      0.23      0.34        30\n",
      "          1       0.85      0.88      0.86        88\n",
      "          2       0.80      0.94      0.86        95\n",
      "\n",
      "avg / total       0.80      0.81      0.79       213\n",
      "\n"
     ]
    }
   ],
   "source": [
    "# For the Classification Report\n",
    "from sklearn.metrics import classification_report\n",
    "print(\"CLASSIFICATION REPORT:\")\n",
    "print(classification_report(Y_test, Y_predict_LogReg))"
   ]
  },
  {
   "cell_type": "markdown",
   "metadata": {},
   "source": [
    "#### Applying GridSearch to find the Best Parameters for the Logistic Regression Model"
   ]
  },
  {
   "cell_type": "code",
   "execution_count": 26,
   "metadata": {},
   "outputs": [
    {
     "name": "stderr",
     "output_type": "stream",
     "text": [
      "/anaconda3/lib/python3.7/site-packages/sklearn/linear_model/sag.py:326: ConvergenceWarning: The max_iter was reached which means the coef_ did not converge\n",
      "  \"the coef_ did not converge\", ConvergenceWarning)\n",
      "/anaconda3/lib/python3.7/site-packages/sklearn/linear_model/sag.py:326: ConvergenceWarning: The max_iter was reached which means the coef_ did not converge\n",
      "  \"the coef_ did not converge\", ConvergenceWarning)\n",
      "/anaconda3/lib/python3.7/site-packages/sklearn/linear_model/sag.py:326: ConvergenceWarning: The max_iter was reached which means the coef_ did not converge\n",
      "  \"the coef_ did not converge\", ConvergenceWarning)\n",
      "/anaconda3/lib/python3.7/site-packages/sklearn/linear_model/sag.py:326: ConvergenceWarning: The max_iter was reached which means the coef_ did not converge\n",
      "  \"the coef_ did not converge\", ConvergenceWarning)\n",
      "/anaconda3/lib/python3.7/site-packages/sklearn/linear_model/sag.py:326: ConvergenceWarning: The max_iter was reached which means the coef_ did not converge\n",
      "  \"the coef_ did not converge\", ConvergenceWarning)\n",
      "/anaconda3/lib/python3.7/site-packages/sklearn/linear_model/sag.py:326: ConvergenceWarning: The max_iter was reached which means the coef_ did not converge\n",
      "  \"the coef_ did not converge\", ConvergenceWarning)\n",
      "/anaconda3/lib/python3.7/site-packages/sklearn/linear_model/sag.py:326: ConvergenceWarning: The max_iter was reached which means the coef_ did not converge\n",
      "  \"the coef_ did not converge\", ConvergenceWarning)\n",
      "/anaconda3/lib/python3.7/site-packages/sklearn/linear_model/sag.py:326: ConvergenceWarning: The max_iter was reached which means the coef_ did not converge\n",
      "  \"the coef_ did not converge\", ConvergenceWarning)\n",
      "/anaconda3/lib/python3.7/site-packages/sklearn/linear_model/sag.py:326: ConvergenceWarning: The max_iter was reached which means the coef_ did not converge\n",
      "  \"the coef_ did not converge\", ConvergenceWarning)\n",
      "/anaconda3/lib/python3.7/site-packages/sklearn/linear_model/sag.py:326: ConvergenceWarning: The max_iter was reached which means the coef_ did not converge\n",
      "  \"the coef_ did not converge\", ConvergenceWarning)\n",
      "/anaconda3/lib/python3.7/site-packages/sklearn/linear_model/sag.py:326: ConvergenceWarning: The max_iter was reached which means the coef_ did not converge\n",
      "  \"the coef_ did not converge\", ConvergenceWarning)\n",
      "/anaconda3/lib/python3.7/site-packages/sklearn/linear_model/sag.py:326: ConvergenceWarning: The max_iter was reached which means the coef_ did not converge\n",
      "  \"the coef_ did not converge\", ConvergenceWarning)\n",
      "/anaconda3/lib/python3.7/site-packages/sklearn/linear_model/sag.py:326: ConvergenceWarning: The max_iter was reached which means the coef_ did not converge\n",
      "  \"the coef_ did not converge\", ConvergenceWarning)\n",
      "/anaconda3/lib/python3.7/site-packages/sklearn/linear_model/sag.py:326: ConvergenceWarning: The max_iter was reached which means the coef_ did not converge\n",
      "  \"the coef_ did not converge\", ConvergenceWarning)\n",
      "/anaconda3/lib/python3.7/site-packages/sklearn/linear_model/sag.py:326: ConvergenceWarning: The max_iter was reached which means the coef_ did not converge\n",
      "  \"the coef_ did not converge\", ConvergenceWarning)\n",
      "/anaconda3/lib/python3.7/site-packages/sklearn/linear_model/sag.py:326: ConvergenceWarning: The max_iter was reached which means the coef_ did not converge\n",
      "  \"the coef_ did not converge\", ConvergenceWarning)\n",
      "/anaconda3/lib/python3.7/site-packages/sklearn/linear_model/sag.py:326: ConvergenceWarning: The max_iter was reached which means the coef_ did not converge\n",
      "  \"the coef_ did not converge\", ConvergenceWarning)\n",
      "/anaconda3/lib/python3.7/site-packages/sklearn/linear_model/sag.py:326: ConvergenceWarning: The max_iter was reached which means the coef_ did not converge\n",
      "  \"the coef_ did not converge\", ConvergenceWarning)\n",
      "/anaconda3/lib/python3.7/site-packages/sklearn/linear_model/sag.py:326: ConvergenceWarning: The max_iter was reached which means the coef_ did not converge\n",
      "  \"the coef_ did not converge\", ConvergenceWarning)\n",
      "/anaconda3/lib/python3.7/site-packages/sklearn/linear_model/sag.py:326: ConvergenceWarning: The max_iter was reached which means the coef_ did not converge\n",
      "  \"the coef_ did not converge\", ConvergenceWarning)\n",
      "/anaconda3/lib/python3.7/site-packages/sklearn/linear_model/sag.py:326: ConvergenceWarning: The max_iter was reached which means the coef_ did not converge\n",
      "  \"the coef_ did not converge\", ConvergenceWarning)\n",
      "/anaconda3/lib/python3.7/site-packages/sklearn/linear_model/sag.py:326: ConvergenceWarning: The max_iter was reached which means the coef_ did not converge\n",
      "  \"the coef_ did not converge\", ConvergenceWarning)\n",
      "/anaconda3/lib/python3.7/site-packages/sklearn/linear_model/sag.py:326: ConvergenceWarning: The max_iter was reached which means the coef_ did not converge\n",
      "  \"the coef_ did not converge\", ConvergenceWarning)\n",
      "/anaconda3/lib/python3.7/site-packages/sklearn/linear_model/sag.py:326: ConvergenceWarning: The max_iter was reached which means the coef_ did not converge\n",
      "  \"the coef_ did not converge\", ConvergenceWarning)\n",
      "/anaconda3/lib/python3.7/site-packages/scipy/optimize/linesearch.py:313: LineSearchWarning: The line search algorithm did not converge\n",
      "  warn('The line search algorithm did not converge', LineSearchWarning)\n",
      "/anaconda3/lib/python3.7/site-packages/sklearn/utils/optimize.py:195: UserWarning: Line Search failed\n",
      "  warnings.warn('Line Search failed')\n"
     ]
    },
    {
     "name": "stdout",
     "output_type": "stream",
     "text": [
      "GridSearchCV(cv=KFold(n_splits=10, random_state=0, shuffle=False),\n",
      "       error_score='raise',\n",
      "       estimator=LogisticRegression(C=1.0, class_weight=None, dual=False, fit_intercept=True,\n",
      "          intercept_scaling=1, max_iter=100, multi_class='ovr', n_jobs=1,\n",
      "          penalty='l2', random_state=0, solver='liblinear', tol=0.0001,\n",
      "          verbose=0, warm_start=False),\n",
      "       fit_params=None, iid=True, n_jobs=-1,\n",
      "       param_grid=[{'C': [1, 10, 100, 1000], 'penalty': ['l1'], 'solver': ['liblinear', 'saga']}, {'C': [1, 10, 100, 1000], 'penalty': ['l2'], 'solver': ['newton-cg', 'lbfgs', 'sag']}],\n",
      "       pre_dispatch='2*n_jobs', refit=True, return_train_score='warn',\n",
      "       scoring='accuracy', verbose=0)\n"
     ]
    }
   ],
   "source": [
    "# To Import the kFold Class\n",
    "from sklearn.model_selection import KFold\n",
    "k_Fold = KFold (n_splits=10, shuffle=False, random_state=0)\n",
    "\n",
    "# To Import the GridSearch Class\n",
    "from sklearn.model_selection import GridSearchCV\n",
    "\n",
    "# To Set Parameters to be Optimized Under the Logistic Regression Model\n",
    "parameters = [{'C': [1, 10, 100, 1000], 'penalty': ['l1'], 'solver': ['liblinear','saga']},\n",
    "              {'C': [1, 10, 100, 1000], 'penalty': ['l2'], 'solver': ['newton-cg', 'lbfgs', 'sag']}]\n",
    "grid_search = GridSearchCV(estimator = logistic_regression,\n",
    "                           param_grid = parameters,\n",
    "                           scoring = 'accuracy',\n",
    "                           cv = k_Fold,\n",
    "                           n_jobs = -1)\n",
    "grid_search = grid_search.fit(X_train, Y_train)\n",
    "print(grid_search)"
   ]
  },
  {
   "cell_type": "code",
   "execution_count": 27,
   "metadata": {},
   "outputs": [
    {
     "name": "stderr",
     "output_type": "stream",
     "text": [
      "/anaconda3/lib/python3.7/site-packages/sklearn/utils/deprecation.py:122: FutureWarning: You are accessing a training score ('split0_train_score'), which will not be available by default any more in 0.21. If you need training scores, please set return_train_score=True\n",
      "  warnings.warn(*warn_args, **warn_kwargs)\n",
      "/anaconda3/lib/python3.7/site-packages/sklearn/utils/deprecation.py:122: FutureWarning: You are accessing a training score ('split1_train_score'), which will not be available by default any more in 0.21. If you need training scores, please set return_train_score=True\n",
      "  warnings.warn(*warn_args, **warn_kwargs)\n",
      "/anaconda3/lib/python3.7/site-packages/sklearn/utils/deprecation.py:122: FutureWarning: You are accessing a training score ('split2_train_score'), which will not be available by default any more in 0.21. If you need training scores, please set return_train_score=True\n",
      "  warnings.warn(*warn_args, **warn_kwargs)\n",
      "/anaconda3/lib/python3.7/site-packages/sklearn/utils/deprecation.py:122: FutureWarning: You are accessing a training score ('split3_train_score'), which will not be available by default any more in 0.21. If you need training scores, please set return_train_score=True\n",
      "  warnings.warn(*warn_args, **warn_kwargs)\n",
      "/anaconda3/lib/python3.7/site-packages/sklearn/utils/deprecation.py:122: FutureWarning: You are accessing a training score ('split4_train_score'), which will not be available by default any more in 0.21. If you need training scores, please set return_train_score=True\n",
      "  warnings.warn(*warn_args, **warn_kwargs)\n",
      "/anaconda3/lib/python3.7/site-packages/sklearn/utils/deprecation.py:122: FutureWarning: You are accessing a training score ('split5_train_score'), which will not be available by default any more in 0.21. If you need training scores, please set return_train_score=True\n",
      "  warnings.warn(*warn_args, **warn_kwargs)\n",
      "/anaconda3/lib/python3.7/site-packages/sklearn/utils/deprecation.py:122: FutureWarning: You are accessing a training score ('split6_train_score'), which will not be available by default any more in 0.21. If you need training scores, please set return_train_score=True\n",
      "  warnings.warn(*warn_args, **warn_kwargs)\n",
      "/anaconda3/lib/python3.7/site-packages/sklearn/utils/deprecation.py:122: FutureWarning: You are accessing a training score ('split7_train_score'), which will not be available by default any more in 0.21. If you need training scores, please set return_train_score=True\n",
      "  warnings.warn(*warn_args, **warn_kwargs)\n",
      "/anaconda3/lib/python3.7/site-packages/sklearn/utils/deprecation.py:122: FutureWarning: You are accessing a training score ('split8_train_score'), which will not be available by default any more in 0.21. If you need training scores, please set return_train_score=True\n",
      "  warnings.warn(*warn_args, **warn_kwargs)\n",
      "/anaconda3/lib/python3.7/site-packages/sklearn/utils/deprecation.py:122: FutureWarning: You are accessing a training score ('split9_train_score'), which will not be available by default any more in 0.21. If you need training scores, please set return_train_score=True\n",
      "  warnings.warn(*warn_args, **warn_kwargs)\n",
      "/anaconda3/lib/python3.7/site-packages/sklearn/utils/deprecation.py:122: FutureWarning: You are accessing a training score ('mean_train_score'), which will not be available by default any more in 0.21. If you need training scores, please set return_train_score=True\n",
      "  warnings.warn(*warn_args, **warn_kwargs)\n",
      "/anaconda3/lib/python3.7/site-packages/sklearn/utils/deprecation.py:122: FutureWarning: You are accessing a training score ('std_train_score'), which will not be available by default any more in 0.21. If you need training scores, please set return_train_score=True\n",
      "  warnings.warn(*warn_args, **warn_kwargs)\n"
     ]
    },
    {
     "data": {
      "text/html": [
       "<div>\n",
       "<style scoped>\n",
       "    .dataframe tbody tr th:only-of-type {\n",
       "        vertical-align: middle;\n",
       "    }\n",
       "\n",
       "    .dataframe tbody tr th {\n",
       "        vertical-align: top;\n",
       "    }\n",
       "\n",
       "    .dataframe thead th {\n",
       "        text-align: right;\n",
       "    }\n",
       "</style>\n",
       "<table border=\"1\" class=\"dataframe\">\n",
       "  <thead>\n",
       "    <tr style=\"text-align: right;\">\n",
       "      <th></th>\n",
       "      <th>mean_test_score</th>\n",
       "      <th>std_test_score</th>\n",
       "      <th>params</th>\n",
       "    </tr>\n",
       "  </thead>\n",
       "  <tbody>\n",
       "    <tr>\n",
       "      <th>0</th>\n",
       "      <td>0.796948</td>\n",
       "      <td>0.044150</td>\n",
       "      <td>{'C': 1, 'penalty': 'l1', 'solver': 'liblinear'}</td>\n",
       "    </tr>\n",
       "    <tr>\n",
       "      <th>1</th>\n",
       "      <td>0.808685</td>\n",
       "      <td>0.043463</td>\n",
       "      <td>{'C': 1, 'penalty': 'l1', 'solver': 'saga'}</td>\n",
       "    </tr>\n",
       "    <tr>\n",
       "      <th>2</th>\n",
       "      <td>0.795775</td>\n",
       "      <td>0.044454</td>\n",
       "      <td>{'C': 10, 'penalty': 'l1', 'solver': 'liblinear'}</td>\n",
       "    </tr>\n",
       "    <tr>\n",
       "      <th>3</th>\n",
       "      <td>0.808685</td>\n",
       "      <td>0.043463</td>\n",
       "      <td>{'C': 10, 'penalty': 'l1', 'solver': 'saga'}</td>\n",
       "    </tr>\n",
       "    <tr>\n",
       "      <th>4</th>\n",
       "      <td>0.795775</td>\n",
       "      <td>0.044454</td>\n",
       "      <td>{'C': 100, 'penalty': 'l1', 'solver': 'libline...</td>\n",
       "    </tr>\n",
       "    <tr>\n",
       "      <th>5</th>\n",
       "      <td>0.808685</td>\n",
       "      <td>0.043463</td>\n",
       "      <td>{'C': 100, 'penalty': 'l1', 'solver': 'saga'}</td>\n",
       "    </tr>\n",
       "    <tr>\n",
       "      <th>6</th>\n",
       "      <td>0.795775</td>\n",
       "      <td>0.044454</td>\n",
       "      <td>{'C': 1000, 'penalty': 'l1', 'solver': 'liblin...</td>\n",
       "    </tr>\n",
       "    <tr>\n",
       "      <th>7</th>\n",
       "      <td>0.808685</td>\n",
       "      <td>0.043463</td>\n",
       "      <td>{'C': 1000, 'penalty': 'l1', 'solver': 'saga'}</td>\n",
       "    </tr>\n",
       "    <tr>\n",
       "      <th>8</th>\n",
       "      <td>0.795775</td>\n",
       "      <td>0.044454</td>\n",
       "      <td>{'C': 1, 'penalty': 'l2', 'solver': 'newton-cg'}</td>\n",
       "    </tr>\n",
       "    <tr>\n",
       "      <th>9</th>\n",
       "      <td>0.795775</td>\n",
       "      <td>0.044454</td>\n",
       "      <td>{'C': 1, 'penalty': 'l2', 'solver': 'lbfgs'}</td>\n",
       "    </tr>\n",
       "    <tr>\n",
       "      <th>10</th>\n",
       "      <td>0.808685</td>\n",
       "      <td>0.043463</td>\n",
       "      <td>{'C': 1, 'penalty': 'l2', 'solver': 'sag'}</td>\n",
       "    </tr>\n",
       "    <tr>\n",
       "      <th>11</th>\n",
       "      <td>0.795775</td>\n",
       "      <td>0.044454</td>\n",
       "      <td>{'C': 10, 'penalty': 'l2', 'solver': 'newton-cg'}</td>\n",
       "    </tr>\n",
       "    <tr>\n",
       "      <th>12</th>\n",
       "      <td>0.795775</td>\n",
       "      <td>0.044454</td>\n",
       "      <td>{'C': 10, 'penalty': 'l2', 'solver': 'lbfgs'}</td>\n",
       "    </tr>\n",
       "    <tr>\n",
       "      <th>13</th>\n",
       "      <td>0.808685</td>\n",
       "      <td>0.043463</td>\n",
       "      <td>{'C': 10, 'penalty': 'l2', 'solver': 'sag'}</td>\n",
       "    </tr>\n",
       "    <tr>\n",
       "      <th>14</th>\n",
       "      <td>0.795775</td>\n",
       "      <td>0.044454</td>\n",
       "      <td>{'C': 100, 'penalty': 'l2', 'solver': 'newton-...</td>\n",
       "    </tr>\n",
       "    <tr>\n",
       "      <th>15</th>\n",
       "      <td>0.795775</td>\n",
       "      <td>0.044454</td>\n",
       "      <td>{'C': 100, 'penalty': 'l2', 'solver': 'lbfgs'}</td>\n",
       "    </tr>\n",
       "    <tr>\n",
       "      <th>16</th>\n",
       "      <td>0.808685</td>\n",
       "      <td>0.043463</td>\n",
       "      <td>{'C': 100, 'penalty': 'l2', 'solver': 'sag'}</td>\n",
       "    </tr>\n",
       "    <tr>\n",
       "      <th>17</th>\n",
       "      <td>0.795775</td>\n",
       "      <td>0.044454</td>\n",
       "      <td>{'C': 1000, 'penalty': 'l2', 'solver': 'newton...</td>\n",
       "    </tr>\n",
       "    <tr>\n",
       "      <th>18</th>\n",
       "      <td>0.795775</td>\n",
       "      <td>0.044454</td>\n",
       "      <td>{'C': 1000, 'penalty': 'l2', 'solver': 'lbfgs'}</td>\n",
       "    </tr>\n",
       "    <tr>\n",
       "      <th>19</th>\n",
       "      <td>0.808685</td>\n",
       "      <td>0.043463</td>\n",
       "      <td>{'C': 1000, 'penalty': 'l2', 'solver': 'sag'}</td>\n",
       "    </tr>\n",
       "  </tbody>\n",
       "</table>\n",
       "</div>"
      ],
      "text/plain": [
       "    mean_test_score  std_test_score  \\\n",
       "0          0.796948        0.044150   \n",
       "1          0.808685        0.043463   \n",
       "2          0.795775        0.044454   \n",
       "3          0.808685        0.043463   \n",
       "4          0.795775        0.044454   \n",
       "5          0.808685        0.043463   \n",
       "6          0.795775        0.044454   \n",
       "7          0.808685        0.043463   \n",
       "8          0.795775        0.044454   \n",
       "9          0.795775        0.044454   \n",
       "10         0.808685        0.043463   \n",
       "11         0.795775        0.044454   \n",
       "12         0.795775        0.044454   \n",
       "13         0.808685        0.043463   \n",
       "14         0.795775        0.044454   \n",
       "15         0.795775        0.044454   \n",
       "16         0.808685        0.043463   \n",
       "17         0.795775        0.044454   \n",
       "18         0.795775        0.044454   \n",
       "19         0.808685        0.043463   \n",
       "\n",
       "                                               params  \n",
       "0    {'C': 1, 'penalty': 'l1', 'solver': 'liblinear'}  \n",
       "1         {'C': 1, 'penalty': 'l1', 'solver': 'saga'}  \n",
       "2   {'C': 10, 'penalty': 'l1', 'solver': 'liblinear'}  \n",
       "3        {'C': 10, 'penalty': 'l1', 'solver': 'saga'}  \n",
       "4   {'C': 100, 'penalty': 'l1', 'solver': 'libline...  \n",
       "5       {'C': 100, 'penalty': 'l1', 'solver': 'saga'}  \n",
       "6   {'C': 1000, 'penalty': 'l1', 'solver': 'liblin...  \n",
       "7      {'C': 1000, 'penalty': 'l1', 'solver': 'saga'}  \n",
       "8    {'C': 1, 'penalty': 'l2', 'solver': 'newton-cg'}  \n",
       "9        {'C': 1, 'penalty': 'l2', 'solver': 'lbfgs'}  \n",
       "10         {'C': 1, 'penalty': 'l2', 'solver': 'sag'}  \n",
       "11  {'C': 10, 'penalty': 'l2', 'solver': 'newton-cg'}  \n",
       "12      {'C': 10, 'penalty': 'l2', 'solver': 'lbfgs'}  \n",
       "13        {'C': 10, 'penalty': 'l2', 'solver': 'sag'}  \n",
       "14  {'C': 100, 'penalty': 'l2', 'solver': 'newton-...  \n",
       "15     {'C': 100, 'penalty': 'l2', 'solver': 'lbfgs'}  \n",
       "16       {'C': 100, 'penalty': 'l2', 'solver': 'sag'}  \n",
       "17  {'C': 1000, 'penalty': 'l2', 'solver': 'newton...  \n",
       "18    {'C': 1000, 'penalty': 'l2', 'solver': 'lbfgs'}  \n",
       "19      {'C': 1000, 'penalty': 'l2', 'solver': 'sag'}  "
      ]
     },
     "execution_count": 27,
     "metadata": {},
     "output_type": "execute_result"
    }
   ],
   "source": [
    "# To View the Results of the GridSearch\n",
    "pd.DataFrame(grid_search.cv_results_)[['mean_test_score', 'std_test_score', 'params']]"
   ]
  },
  {
   "cell_type": "code",
   "execution_count": 28,
   "metadata": {},
   "outputs": [
    {
     "name": "stdout",
     "output_type": "stream",
     "text": [
      "BEST ACCURACY SCORE:\n",
      "0.8086854460093896\n",
      "\n",
      "BEST PARAMETERS:\n",
      "{'C': 1, 'penalty': 'l1', 'solver': 'saga'}\n"
     ]
    }
   ],
   "source": [
    "best_accuracy = grid_search.best_score_\n",
    "best_parameters = grid_search.best_params_\n",
    "\n",
    "print(\"BEST ACCURACY SCORE:\")\n",
    "print(best_accuracy)\n",
    "print('')\n",
    "\n",
    "print(\"BEST PARAMETERS:\")\n",
    "print(best_parameters)"
   ]
  },
  {
   "cell_type": "markdown",
   "metadata": {},
   "source": [
    "###### To Create New Logistic Regression Model Using the Optimal Parameters"
   ]
  },
  {
   "cell_type": "code",
   "execution_count": 29,
   "metadata": {},
   "outputs": [
    {
     "data": {
      "text/plain": [
       "Text(0,0.5,'Frequency')"
      ]
     },
     "execution_count": 29,
     "metadata": {},
     "output_type": "execute_result"
    },
    {
     "data": {
      "image/png": "[encoded data removed]",
      "text/plain": [
       "<Figure size 432x288 with 1 Axes>"
      ]
     },
     "metadata": {
      "needs_background": "light"
     },
     "output_type": "display_data"
    }
   ],
   "source": [
    "# To Instantiate the Model (Using the Default Parameters)\n",
    "logistic_regression = LogisticRegression(C=1, penalty='l1', solver='saga', random_state=0)\n",
    "\n",
    "# To Fit the Training Dataset into Logistic Regression Model\n",
    "logistic_regression.fit(X_train, Y_train)\n",
    "\n",
    "# To Predict the Output of the Testing Dataset\n",
    "Y_predict_LogReg = logistic_regression.predict(X_test)\n",
    "Y_predict_LogReg\n",
    "\n",
    "# To Show the Histogram of Predicted Classification\n",
    "plot.hist(Y_predict_LogReg, bins=12)\n",
    "plot.xlim(0, 11)\n",
    "plot.title('Histogram of Predicted Herbal Classification')\n",
    "plot.xlabel('Herbal Classification')\n",
    "plot.ylabel('Frequency')"
   ]
  },
  {
   "cell_type": "markdown",
   "metadata": {},
   "source": [
    "###### To Evaluate the Performance of the Logistic Regression Model"
   ]
  },
  {
   "cell_type": "code",
   "execution_count": 30,
   "metadata": {},
   "outputs": [
    {
     "name": "stdout",
     "output_type": "stream",
     "text": [
      "CONFUSION MATRIX:\n",
      "[[ 7  9 14]\n",
      " [ 3 77  8]\n",
      " [ 1  5 89]]\n"
     ]
    }
   ],
   "source": [
    "# To Show the Confusion Matrix\n",
    "from sklearn.metrics import confusion_matrix\n",
    "print(\"CONFUSION MATRIX:\")\n",
    "print(confusion_matrix(Y_test, Y_predict_LogReg))"
   ]
  },
  {
   "cell_type": "code",
   "execution_count": 31,
   "metadata": {},
   "outputs": [
    {
     "name": "stdout",
     "output_type": "stream",
     "text": [
      "Classification Accuracy: 0.8122\n",
      "\n"
     ]
    }
   ],
   "source": [
    "# For the Classification Accuracy\n",
    "from sklearn.metrics import accuracy_score\n",
    "classification_accuracy = accuracy_score(Y_test, Y_predict_LogReg)\n",
    "print('Classification Accuracy: %.4f'\n",
    "      % classification_accuracy)\n",
    "print('')"
   ]
  },
  {
   "cell_type": "code",
   "execution_count": 32,
   "metadata": {},
   "outputs": [
    {
     "name": "stdout",
     "output_type": "stream",
     "text": [
      "CLASSIFICATION REPORT:\n",
      "             precision    recall  f1-score   support\n",
      "\n",
      "          0       0.64      0.23      0.34        30\n",
      "          1       0.85      0.88      0.86        88\n",
      "          2       0.80      0.94      0.86        95\n",
      "\n",
      "avg / total       0.80      0.81      0.79       213\n",
      "\n"
     ]
    }
   ],
   "source": [
    "# For the Classification Report\n",
    "from sklearn.metrics import classification_report\n",
    "print(\"CLASSIFICATION REPORT:\")\n",
    "print(classification_report(Y_test, Y_predict_LogReg))"
   ]
  },
  {
   "cell_type": "markdown",
   "metadata": {},
   "source": [
    "#### B. To Create the K-Nearest Neighbors Model "
   ]
  },
  {
   "cell_type": "code",
   "execution_count": 34,
   "metadata": {},
   "outputs": [
    {
     "data": {
      "text/plain": [
       "Text(0,0.5,'Frequency')"
      ]
     },
     "execution_count": 34,
     "metadata": {},
     "output_type": "execute_result"
    },
    {
     "data": {
      "image/png": "[encoded data removed]",
      "text/plain": [
       "<Figure size 432x288 with 1 Axes>"
      ]
     },
     "metadata": {
      "needs_background": "light"
     },
     "output_type": "display_data"
    }
   ],
   "source": [
    "# To Instantiate the Model (Using the Default Parameters)\n",
    "k_nearest_neighbors = KNeighborsClassifier()\n",
    "\n",
    "# To Fit the Training Dataset into K Nearest Neighbors Model\n",
    "k_nearest_neighbors.fit(X_train, Y_train)\n",
    "\n",
    "# To Predict the Output of the Testing Dataset\n",
    "Y_predict_KNN = k_nearest_neighbors.predict(X_test)\n",
    "Y_predict_KNN\n",
    "\n",
    "# To Show the Histogram of Predicted Classification\n",
    "plot.hist(Y_predict_KNN, bins=12)\n",
    "plot.xlim(0, 11)\n",
    "plot.title('Histogram of Predicted Maturity Classification')\n",
    "plot.xlabel('Maturity Classification')\n",
    "plot.ylabel('Frequency')"
   ]
  },
  {
   "cell_type": "markdown",
   "metadata": {},
   "source": [
    "###### To Evaluate the Performance of the K-Nearest Neighbors Machine Model"
   ]
  },
  {
   "cell_type": "code",
   "execution_count": 35,
   "metadata": {},
   "outputs": [
    {
     "name": "stdout",
     "output_type": "stream",
     "text": [
      "CONFUSION MATRIX:\n",
      "[[13  8  9]\n",
      " [ 7 74  7]\n",
      " [ 4  6 85]]\n"
     ]
    }
   ],
   "source": [
    "# To Show the Confusion Matrix\n",
    "from sklearn.metrics import confusion_matrix\n",
    "print(\"CONFUSION MATRIX:\")\n",
    "print(confusion_matrix(Y_test, Y_predict_KNN))"
   ]
  },
  {
   "cell_type": "code",
   "execution_count": 36,
   "metadata": {},
   "outputs": [
    {
     "name": "stdout",
     "output_type": "stream",
     "text": [
      "Classification Accuracy: 0.8075\n",
      "\n"
     ]
    }
   ],
   "source": [
    "# For the Classification Accuracy\n",
    "from sklearn.metrics import accuracy_score\n",
    "classification_accuracy = accuracy_score(Y_test, Y_predict_KNN)\n",
    "print('Classification Accuracy: %.4f'\n",
    "      % classification_accuracy)\n",
    "print('')"
   ]
  },
  {
   "cell_type": "code",
   "execution_count": 37,
   "metadata": {},
   "outputs": [
    {
     "name": "stdout",
     "output_type": "stream",
     "text": [
      "CLASSIFICATION REPORT:\n",
      "             precision    recall  f1-score   support\n",
      "\n",
      "          0       0.54      0.43      0.48        30\n",
      "          1       0.84      0.84      0.84        88\n",
      "          2       0.84      0.89      0.87        95\n",
      "\n",
      "avg / total       0.80      0.81      0.80       213\n",
      "\n"
     ]
    }
   ],
   "source": [
    "# For the Classification Report\n",
    "from sklearn.metrics import classification_report\n",
    "print(\"CLASSIFICATION REPORT:\")\n",
    "print(classification_report(Y_test, Y_predict_KNN))"
   ]
  },
  {
   "cell_type": "markdown",
   "metadata": {},
   "source": [
    "#### Applying GridSearch to find the Best Parameters for the K-Nearest Neighbors Machine Model"
   ]
  },
  {
   "cell_type": "code",
   "execution_count": 39,
   "metadata": {},
   "outputs": [
    {
     "name": "stdout",
     "output_type": "stream",
     "text": [
      "GridSearchCV(cv=KFold(n_splits=10, random_state=0, shuffle=False),\n",
      "       error_score='raise',\n",
      "       estimator=KNeighborsClassifier(algorithm='auto', leaf_size=30, metric='minkowski',\n",
      "           metric_params=None, n_jobs=1, n_neighbors=5, p=2,\n",
      "           weights='uniform'),\n",
      "       fit_params=None, iid=True, n_jobs=-1,\n",
      "       param_grid={'n_neighbors': [1, 2, 3, 4, 5, 6, 7, 8, 9, 10, 11, 12, 13, 14, 15, 16, 17, 18, 19, 20, 21, 22, 23, 24, 25, 26, 27, 28, 29, 30, 31, 32, 33, 34, 35, 36, 37, 38, 39, 40, 41, 42, 43, 44, 45, 46, 47, 48, 49, 50], 'weights': ['uniform', 'distance']},\n",
      "       pre_dispatch='2*n_jobs', refit=True, return_train_score='warn',\n",
      "       scoring='accuracy', verbose=0)\n"
     ]
    }
   ],
   "source": [
    "# To Import the kFold Class\n",
    "from sklearn.model_selection import KFold\n",
    "k_Fold = KFold (n_splits=10, shuffle=False, random_state=0)\n",
    "\n",
    "# To Import the GridSearch Class\n",
    "from sklearn.model_selection import GridSearchCV\n",
    "\n",
    "# To Set Parameters to be Optimized Under the K Nearest Neighbors Model\n",
    "k_range = list(range(1, 51))\n",
    "weight = ['uniform', 'distance']\n",
    "parameters = dict(n_neighbors=k_range, weights=weight)\n",
    "grid_search = GridSearchCV(estimator = k_nearest_neighbors,\n",
    "                           param_grid = parameters,\n",
    "                           scoring = 'accuracy',\n",
    "                           cv = k_Fold,\n",
    "                           n_jobs = -1)\n",
    "grid_search = grid_search.fit(X_train, Y_train)\n",
    "print(grid_search)"
   ]
  },
  {
   "cell_type": "code",
   "execution_count": 40,
   "metadata": {},
   "outputs": [
    {
     "name": "stderr",
     "output_type": "stream",
     "text": [
      "/anaconda3/lib/python3.7/site-packages/sklearn/utils/deprecation.py:122: FutureWarning: You are accessing a training score ('split0_train_score'), which will not be available by default any more in 0.21. If you need training scores, please set return_train_score=True\n",
      "  warnings.warn(*warn_args, **warn_kwargs)\n",
      "/anaconda3/lib/python3.7/site-packages/sklearn/utils/deprecation.py:122: FutureWarning: You are accessing a training score ('split1_train_score'), which will not be available by default any more in 0.21. If you need training scores, please set return_train_score=True\n",
      "  warnings.warn(*warn_args, **warn_kwargs)\n",
      "/anaconda3/lib/python3.7/site-packages/sklearn/utils/deprecation.py:122: FutureWarning: You are accessing a training score ('split2_train_score'), which will not be available by default any more in 0.21. If you need training scores, please set return_train_score=True\n",
      "  warnings.warn(*warn_args, **warn_kwargs)\n",
      "/anaconda3/lib/python3.7/site-packages/sklearn/utils/deprecation.py:122: FutureWarning: You are accessing a training score ('split3_train_score'), which will not be available by default any more in 0.21. If you need training scores, please set return_train_score=True\n",
      "  warnings.warn(*warn_args, **warn_kwargs)\n",
      "/anaconda3/lib/python3.7/site-packages/sklearn/utils/deprecation.py:122: FutureWarning: You are accessing a training score ('split4_train_score'), which will not be available by default any more in 0.21. If you need training scores, please set return_train_score=True\n",
      "  warnings.warn(*warn_args, **warn_kwargs)\n",
      "/anaconda3/lib/python3.7/site-packages/sklearn/utils/deprecation.py:122: FutureWarning: You are accessing a training score ('split5_train_score'), which will not be available by default any more in 0.21. If you need training scores, please set return_train_score=True\n",
      "  warnings.warn(*warn_args, **warn_kwargs)\n",
      "/anaconda3/lib/python3.7/site-packages/sklearn/utils/deprecation.py:122: FutureWarning: You are accessing a training score ('split6_train_score'), which will not be available by default any more in 0.21. If you need training scores, please set return_train_score=True\n",
      "  warnings.warn(*warn_args, **warn_kwargs)\n",
      "/anaconda3/lib/python3.7/site-packages/sklearn/utils/deprecation.py:122: FutureWarning: You are accessing a training score ('split7_train_score'), which will not be available by default any more in 0.21. If you need training scores, please set return_train_score=True\n",
      "  warnings.warn(*warn_args, **warn_kwargs)\n",
      "/anaconda3/lib/python3.7/site-packages/sklearn/utils/deprecation.py:122: FutureWarning: You are accessing a training score ('split8_train_score'), which will not be available by default any more in 0.21. If you need training scores, please set return_train_score=True\n",
      "  warnings.warn(*warn_args, **warn_kwargs)\n",
      "/anaconda3/lib/python3.7/site-packages/sklearn/utils/deprecation.py:122: FutureWarning: You are accessing a training score ('split9_train_score'), which will not be available by default any more in 0.21. If you need training scores, please set return_train_score=True\n",
      "  warnings.warn(*warn_args, **warn_kwargs)\n",
      "/anaconda3/lib/python3.7/site-packages/sklearn/utils/deprecation.py:122: FutureWarning: You are accessing a training score ('mean_train_score'), which will not be available by default any more in 0.21. If you need training scores, please set return_train_score=True\n",
      "  warnings.warn(*warn_args, **warn_kwargs)\n",
      "/anaconda3/lib/python3.7/site-packages/sklearn/utils/deprecation.py:122: FutureWarning: You are accessing a training score ('std_train_score'), which will not be available by default any more in 0.21. If you need training scores, please set return_train_score=True\n",
      "  warnings.warn(*warn_args, **warn_kwargs)\n"
     ]
    },
    {
     "data": {
      "text/html": [
       "<div>\n",
       "<style scoped>\n",
       "    .dataframe tbody tr th:only-of-type {\n",
       "        vertical-align: middle;\n",
       "    }\n",
       "\n",
       "    .dataframe tbody tr th {\n",
       "        vertical-align: top;\n",
       "    }\n",
       "\n",
       "    .dataframe thead th {\n",
       "        text-align: right;\n",
       "    }\n",
       "</style>\n",
       "<table border=\"1\" class=\"dataframe\">\n",
       "  <thead>\n",
       "    <tr style=\"text-align: right;\">\n",
       "      <th></th>\n",
       "      <th>mean_test_score</th>\n",
       "      <th>std_test_score</th>\n",
       "      <th>params</th>\n",
       "    </tr>\n",
       "  </thead>\n",
       "  <tbody>\n",
       "    <tr>\n",
       "      <th>0</th>\n",
       "      <td>0.772300</td>\n",
       "      <td>0.034314</td>\n",
       "      <td>{'n_neighbors': 1, 'weights': 'uniform'}</td>\n",
       "    </tr>\n",
       "    <tr>\n",
       "      <th>1</th>\n",
       "      <td>0.772300</td>\n",
       "      <td>0.034314</td>\n",
       "      <td>{'n_neighbors': 1, 'weights': 'distance'}</td>\n",
       "    </tr>\n",
       "    <tr>\n",
       "      <th>2</th>\n",
       "      <td>0.732394</td>\n",
       "      <td>0.040362</td>\n",
       "      <td>{'n_neighbors': 2, 'weights': 'uniform'}</td>\n",
       "    </tr>\n",
       "    <tr>\n",
       "      <th>3</th>\n",
       "      <td>0.771127</td>\n",
       "      <td>0.035924</td>\n",
       "      <td>{'n_neighbors': 2, 'weights': 'distance'}</td>\n",
       "    </tr>\n",
       "    <tr>\n",
       "      <th>4</th>\n",
       "      <td>0.799296</td>\n",
       "      <td>0.030495</td>\n",
       "      <td>{'n_neighbors': 3, 'weights': 'uniform'}</td>\n",
       "    </tr>\n",
       "    <tr>\n",
       "      <th>5</th>\n",
       "      <td>0.796948</td>\n",
       "      <td>0.042018</td>\n",
       "      <td>{'n_neighbors': 3, 'weights': 'distance'}</td>\n",
       "    </tr>\n",
       "    <tr>\n",
       "      <th>6</th>\n",
       "      <td>0.786385</td>\n",
       "      <td>0.029032</td>\n",
       "      <td>{'n_neighbors': 4, 'weights': 'uniform'}</td>\n",
       "    </tr>\n",
       "    <tr>\n",
       "      <th>7</th>\n",
       "      <td>0.806338</td>\n",
       "      <td>0.033267</td>\n",
       "      <td>{'n_neighbors': 4, 'weights': 'distance'}</td>\n",
       "    </tr>\n",
       "    <tr>\n",
       "      <th>8</th>\n",
       "      <td>0.803991</td>\n",
       "      <td>0.028077</td>\n",
       "      <td>{'n_neighbors': 5, 'weights': 'uniform'}</td>\n",
       "    </tr>\n",
       "    <tr>\n",
       "      <th>9</th>\n",
       "      <td>0.808685</td>\n",
       "      <td>0.031594</td>\n",
       "      <td>{'n_neighbors': 5, 'weights': 'distance'}</td>\n",
       "    </tr>\n",
       "    <tr>\n",
       "      <th>10</th>\n",
       "      <td>0.816901</td>\n",
       "      <td>0.038504</td>\n",
       "      <td>{'n_neighbors': 6, 'weights': 'uniform'}</td>\n",
       "    </tr>\n",
       "    <tr>\n",
       "      <th>11</th>\n",
       "      <td>0.813380</td>\n",
       "      <td>0.037079</td>\n",
       "      <td>{'n_neighbors': 6, 'weights': 'distance'}</td>\n",
       "    </tr>\n",
       "    <tr>\n",
       "      <th>12</th>\n",
       "      <td>0.818075</td>\n",
       "      <td>0.045784</td>\n",
       "      <td>{'n_neighbors': 7, 'weights': 'uniform'}</td>\n",
       "    </tr>\n",
       "    <tr>\n",
       "      <th>13</th>\n",
       "      <td>0.816901</td>\n",
       "      <td>0.037479</td>\n",
       "      <td>{'n_neighbors': 7, 'weights': 'distance'}</td>\n",
       "    </tr>\n",
       "    <tr>\n",
       "      <th>14</th>\n",
       "      <td>0.823944</td>\n",
       "      <td>0.058582</td>\n",
       "      <td>{'n_neighbors': 8, 'weights': 'uniform'}</td>\n",
       "    </tr>\n",
       "    <tr>\n",
       "      <th>15</th>\n",
       "      <td>0.820423</td>\n",
       "      <td>0.042437</td>\n",
       "      <td>{'n_neighbors': 8, 'weights': 'distance'}</td>\n",
       "    </tr>\n",
       "    <tr>\n",
       "      <th>16</th>\n",
       "      <td>0.825117</td>\n",
       "      <td>0.047785</td>\n",
       "      <td>{'n_neighbors': 9, 'weights': 'uniform'}</td>\n",
       "    </tr>\n",
       "    <tr>\n",
       "      <th>17</th>\n",
       "      <td>0.821596</td>\n",
       "      <td>0.043380</td>\n",
       "      <td>{'n_neighbors': 9, 'weights': 'distance'}</td>\n",
       "    </tr>\n",
       "    <tr>\n",
       "      <th>18</th>\n",
       "      <td>0.826291</td>\n",
       "      <td>0.043652</td>\n",
       "      <td>{'n_neighbors': 10, 'weights': 'uniform'}</td>\n",
       "    </tr>\n",
       "    <tr>\n",
       "      <th>19</th>\n",
       "      <td>0.823944</td>\n",
       "      <td>0.043033</td>\n",
       "      <td>{'n_neighbors': 10, 'weights': 'distance'}</td>\n",
       "    </tr>\n",
       "    <tr>\n",
       "      <th>20</th>\n",
       "      <td>0.829812</td>\n",
       "      <td>0.038456</td>\n",
       "      <td>{'n_neighbors': 11, 'weights': 'uniform'}</td>\n",
       "    </tr>\n",
       "    <tr>\n",
       "      <th>21</th>\n",
       "      <td>0.822770</td>\n",
       "      <td>0.038529</td>\n",
       "      <td>{'n_neighbors': 11, 'weights': 'distance'}</td>\n",
       "    </tr>\n",
       "    <tr>\n",
       "      <th>22</th>\n",
       "      <td>0.826291</td>\n",
       "      <td>0.047935</td>\n",
       "      <td>{'n_neighbors': 12, 'weights': 'uniform'}</td>\n",
       "    </tr>\n",
       "    <tr>\n",
       "      <th>23</th>\n",
       "      <td>0.826291</td>\n",
       "      <td>0.038973</td>\n",
       "      <td>{'n_neighbors': 12, 'weights': 'distance'}</td>\n",
       "    </tr>\n",
       "    <tr>\n",
       "      <th>24</th>\n",
       "      <td>0.828638</td>\n",
       "      <td>0.046624</td>\n",
       "      <td>{'n_neighbors': 13, 'weights': 'uniform'}</td>\n",
       "    </tr>\n",
       "    <tr>\n",
       "      <th>25</th>\n",
       "      <td>0.825117</td>\n",
       "      <td>0.042591</td>\n",
       "      <td>{'n_neighbors': 13, 'weights': 'distance'}</td>\n",
       "    </tr>\n",
       "    <tr>\n",
       "      <th>26</th>\n",
       "      <td>0.826291</td>\n",
       "      <td>0.050236</td>\n",
       "      <td>{'n_neighbors': 14, 'weights': 'uniform'}</td>\n",
       "    </tr>\n",
       "    <tr>\n",
       "      <th>27</th>\n",
       "      <td>0.826291</td>\n",
       "      <td>0.042758</td>\n",
       "      <td>{'n_neighbors': 14, 'weights': 'distance'}</td>\n",
       "    </tr>\n",
       "    <tr>\n",
       "      <th>28</th>\n",
       "      <td>0.826291</td>\n",
       "      <td>0.053694</td>\n",
       "      <td>{'n_neighbors': 15, 'weights': 'uniform'}</td>\n",
       "    </tr>\n",
       "    <tr>\n",
       "      <th>29</th>\n",
       "      <td>0.822770</td>\n",
       "      <td>0.045194</td>\n",
       "      <td>{'n_neighbors': 15, 'weights': 'distance'}</td>\n",
       "    </tr>\n",
       "    <tr>\n",
       "      <th>...</th>\n",
       "      <td>...</td>\n",
       "      <td>...</td>\n",
       "      <td>...</td>\n",
       "    </tr>\n",
       "    <tr>\n",
       "      <th>70</th>\n",
       "      <td>0.826291</td>\n",
       "      <td>0.040300</td>\n",
       "      <td>{'n_neighbors': 36, 'weights': 'uniform'}</td>\n",
       "    </tr>\n",
       "    <tr>\n",
       "      <th>71</th>\n",
       "      <td>0.829812</td>\n",
       "      <td>0.035076</td>\n",
       "      <td>{'n_neighbors': 36, 'weights': 'distance'}</td>\n",
       "    </tr>\n",
       "    <tr>\n",
       "      <th>72</th>\n",
       "      <td>0.825117</td>\n",
       "      <td>0.033851</td>\n",
       "      <td>{'n_neighbors': 37, 'weights': 'uniform'}</td>\n",
       "    </tr>\n",
       "    <tr>\n",
       "      <th>73</th>\n",
       "      <td>0.829812</td>\n",
       "      <td>0.036237</td>\n",
       "      <td>{'n_neighbors': 37, 'weights': 'distance'}</td>\n",
       "    </tr>\n",
       "    <tr>\n",
       "      <th>74</th>\n",
       "      <td>0.828638</td>\n",
       "      <td>0.034516</td>\n",
       "      <td>{'n_neighbors': 38, 'weights': 'uniform'}</td>\n",
       "    </tr>\n",
       "    <tr>\n",
       "      <th>75</th>\n",
       "      <td>0.833333</td>\n",
       "      <td>0.036408</td>\n",
       "      <td>{'n_neighbors': 38, 'weights': 'distance'}</td>\n",
       "    </tr>\n",
       "    <tr>\n",
       "      <th>76</th>\n",
       "      <td>0.828638</td>\n",
       "      <td>0.038308</td>\n",
       "      <td>{'n_neighbors': 39, 'weights': 'uniform'}</td>\n",
       "    </tr>\n",
       "    <tr>\n",
       "      <th>77</th>\n",
       "      <td>0.829812</td>\n",
       "      <td>0.038813</td>\n",
       "      <td>{'n_neighbors': 39, 'weights': 'distance'}</td>\n",
       "    </tr>\n",
       "    <tr>\n",
       "      <th>78</th>\n",
       "      <td>0.822770</td>\n",
       "      <td>0.033054</td>\n",
       "      <td>{'n_neighbors': 40, 'weights': 'uniform'}</td>\n",
       "    </tr>\n",
       "    <tr>\n",
       "      <th>79</th>\n",
       "      <td>0.829812</td>\n",
       "      <td>0.039518</td>\n",
       "      <td>{'n_neighbors': 40, 'weights': 'distance'}</td>\n",
       "    </tr>\n",
       "    <tr>\n",
       "      <th>80</th>\n",
       "      <td>0.820423</td>\n",
       "      <td>0.032581</td>\n",
       "      <td>{'n_neighbors': 41, 'weights': 'uniform'}</td>\n",
       "    </tr>\n",
       "    <tr>\n",
       "      <th>81</th>\n",
       "      <td>0.828638</td>\n",
       "      <td>0.039861</td>\n",
       "      <td>{'n_neighbors': 41, 'weights': 'distance'}</td>\n",
       "    </tr>\n",
       "    <tr>\n",
       "      <th>82</th>\n",
       "      <td>0.819249</td>\n",
       "      <td>0.035025</td>\n",
       "      <td>{'n_neighbors': 42, 'weights': 'uniform'}</td>\n",
       "    </tr>\n",
       "    <tr>\n",
       "      <th>83</th>\n",
       "      <td>0.827465</td>\n",
       "      <td>0.039821</td>\n",
       "      <td>{'n_neighbors': 42, 'weights': 'distance'}</td>\n",
       "    </tr>\n",
       "    <tr>\n",
       "      <th>84</th>\n",
       "      <td>0.818075</td>\n",
       "      <td>0.035059</td>\n",
       "      <td>{'n_neighbors': 43, 'weights': 'uniform'}</td>\n",
       "    </tr>\n",
       "    <tr>\n",
       "      <th>85</th>\n",
       "      <td>0.828638</td>\n",
       "      <td>0.039162</td>\n",
       "      <td>{'n_neighbors': 43, 'weights': 'distance'}</td>\n",
       "    </tr>\n",
       "    <tr>\n",
       "      <th>86</th>\n",
       "      <td>0.818075</td>\n",
       "      <td>0.035059</td>\n",
       "      <td>{'n_neighbors': 44, 'weights': 'uniform'}</td>\n",
       "    </tr>\n",
       "    <tr>\n",
       "      <th>87</th>\n",
       "      <td>0.826291</td>\n",
       "      <td>0.038331</td>\n",
       "      <td>{'n_neighbors': 44, 'weights': 'distance'}</td>\n",
       "    </tr>\n",
       "    <tr>\n",
       "      <th>88</th>\n",
       "      <td>0.814554</td>\n",
       "      <td>0.031420</td>\n",
       "      <td>{'n_neighbors': 45, 'weights': 'uniform'}</td>\n",
       "    </tr>\n",
       "    <tr>\n",
       "      <th>89</th>\n",
       "      <td>0.827465</td>\n",
       "      <td>0.040096</td>\n",
       "      <td>{'n_neighbors': 45, 'weights': 'distance'}</td>\n",
       "    </tr>\n",
       "    <tr>\n",
       "      <th>90</th>\n",
       "      <td>0.815728</td>\n",
       "      <td>0.036012</td>\n",
       "      <td>{'n_neighbors': 46, 'weights': 'uniform'}</td>\n",
       "    </tr>\n",
       "    <tr>\n",
       "      <th>91</th>\n",
       "      <td>0.826291</td>\n",
       "      <td>0.041044</td>\n",
       "      <td>{'n_neighbors': 46, 'weights': 'distance'}</td>\n",
       "    </tr>\n",
       "    <tr>\n",
       "      <th>92</th>\n",
       "      <td>0.816901</td>\n",
       "      <td>0.038285</td>\n",
       "      <td>{'n_neighbors': 47, 'weights': 'uniform'}</td>\n",
       "    </tr>\n",
       "    <tr>\n",
       "      <th>93</th>\n",
       "      <td>0.826291</td>\n",
       "      <td>0.041711</td>\n",
       "      <td>{'n_neighbors': 47, 'weights': 'distance'}</td>\n",
       "    </tr>\n",
       "    <tr>\n",
       "      <th>94</th>\n",
       "      <td>0.807512</td>\n",
       "      <td>0.035787</td>\n",
       "      <td>{'n_neighbors': 48, 'weights': 'uniform'}</td>\n",
       "    </tr>\n",
       "    <tr>\n",
       "      <th>95</th>\n",
       "      <td>0.826291</td>\n",
       "      <td>0.039397</td>\n",
       "      <td>{'n_neighbors': 48, 'weights': 'distance'}</td>\n",
       "    </tr>\n",
       "    <tr>\n",
       "      <th>96</th>\n",
       "      <td>0.809859</td>\n",
       "      <td>0.035603</td>\n",
       "      <td>{'n_neighbors': 49, 'weights': 'uniform'}</td>\n",
       "    </tr>\n",
       "    <tr>\n",
       "      <th>97</th>\n",
       "      <td>0.825117</td>\n",
       "      <td>0.040257</td>\n",
       "      <td>{'n_neighbors': 49, 'weights': 'distance'}</td>\n",
       "    </tr>\n",
       "    <tr>\n",
       "      <th>98</th>\n",
       "      <td>0.808685</td>\n",
       "      <td>0.036099</td>\n",
       "      <td>{'n_neighbors': 50, 'weights': 'uniform'}</td>\n",
       "    </tr>\n",
       "    <tr>\n",
       "      <th>99</th>\n",
       "      <td>0.825117</td>\n",
       "      <td>0.037780</td>\n",
       "      <td>{'n_neighbors': 50, 'weights': 'distance'}</td>\n",
       "    </tr>\n",
       "  </tbody>\n",
       "</table>\n",
       "<p>100 rows × 3 columns</p>\n",
       "</div>"
      ],
      "text/plain": [
       "    mean_test_score  std_test_score  \\\n",
       "0          0.772300        0.034314   \n",
       "1          0.772300        0.034314   \n",
       "2          0.732394        0.040362   \n",
       "3          0.771127        0.035924   \n",
       "4          0.799296        0.030495   \n",
       "5          0.796948        0.042018   \n",
       "6          0.786385        0.029032   \n",
       "7          0.806338        0.033267   \n",
       "8          0.803991        0.028077   \n",
       "9          0.808685        0.031594   \n",
       "10         0.816901        0.038504   \n",
       "11         0.813380        0.037079   \n",
       "12         0.818075        0.045784   \n",
       "13         0.816901        0.037479   \n",
       "14         0.823944        0.058582   \n",
       "15         0.820423        0.042437   \n",
       "16         0.825117        0.047785   \n",
       "17         0.821596        0.043380   \n",
       "18         0.826291        0.043652   \n",
       "19         0.823944        0.043033   \n",
       "20         0.829812        0.038456   \n",
       "21         0.822770        0.038529   \n",
       "22         0.826291        0.047935   \n",
       "23         0.826291        0.038973   \n",
       "24         0.828638        0.046624   \n",
       "25         0.825117        0.042591   \n",
       "26         0.826291        0.050236   \n",
       "27         0.826291        0.042758   \n",
       "28         0.826291        0.053694   \n",
       "29         0.822770        0.045194   \n",
       "..              ...             ...   \n",
       "70         0.826291        0.040300   \n",
       "71         0.829812        0.035076   \n",
       "72         0.825117        0.033851   \n",
       "73         0.829812        0.036237   \n",
       "74         0.828638        0.034516   \n",
       "75         0.833333        0.036408   \n",
       "76         0.828638        0.038308   \n",
       "77         0.829812        0.038813   \n",
       "78         0.822770        0.033054   \n",
       "79         0.829812        0.039518   \n",
       "80         0.820423        0.032581   \n",
       "81         0.828638        0.039861   \n",
       "82         0.819249        0.035025   \n",
       "83         0.827465        0.039821   \n",
       "84         0.818075        0.035059   \n",
       "85         0.828638        0.039162   \n",
       "86         0.818075        0.035059   \n",
       "87         0.826291        0.038331   \n",
       "88         0.814554        0.031420   \n",
       "89         0.827465        0.040096   \n",
       "90         0.815728        0.036012   \n",
       "91         0.826291        0.041044   \n",
       "92         0.816901        0.038285   \n",
       "93         0.826291        0.041711   \n",
       "94         0.807512        0.035787   \n",
       "95         0.826291        0.039397   \n",
       "96         0.809859        0.035603   \n",
       "97         0.825117        0.040257   \n",
       "98         0.808685        0.036099   \n",
       "99         0.825117        0.037780   \n",
       "\n",
       "                                        params  \n",
       "0     {'n_neighbors': 1, 'weights': 'uniform'}  \n",
       "1    {'n_neighbors': 1, 'weights': 'distance'}  \n",
       "2     {'n_neighbors': 2, 'weights': 'uniform'}  \n",
       "3    {'n_neighbors': 2, 'weights': 'distance'}  \n",
       "4     {'n_neighbors': 3, 'weights': 'uniform'}  \n",
       "5    {'n_neighbors': 3, 'weights': 'distance'}  \n",
       "6     {'n_neighbors': 4, 'weights': 'uniform'}  \n",
       "7    {'n_neighbors': 4, 'weights': 'distance'}  \n",
       "8     {'n_neighbors': 5, 'weights': 'uniform'}  \n",
       "9    {'n_neighbors': 5, 'weights': 'distance'}  \n",
       "10    {'n_neighbors': 6, 'weights': 'uniform'}  \n",
       "11   {'n_neighbors': 6, 'weights': 'distance'}  \n",
       "12    {'n_neighbors': 7, 'weights': 'uniform'}  \n",
       "13   {'n_neighbors': 7, 'weights': 'distance'}  \n",
       "14    {'n_neighbors': 8, 'weights': 'uniform'}  \n",
       "15   {'n_neighbors': 8, 'weights': 'distance'}  \n",
       "16    {'n_neighbors': 9, 'weights': 'uniform'}  \n",
       "17   {'n_neighbors': 9, 'weights': 'distance'}  \n",
       "18   {'n_neighbors': 10, 'weights': 'uniform'}  \n",
       "19  {'n_neighbors': 10, 'weights': 'distance'}  \n",
       "20   {'n_neighbors': 11, 'weights': 'uniform'}  \n",
       "21  {'n_neighbors': 11, 'weights': 'distance'}  \n",
       "22   {'n_neighbors': 12, 'weights': 'uniform'}  \n",
       "23  {'n_neighbors': 12, 'weights': 'distance'}  \n",
       "24   {'n_neighbors': 13, 'weights': 'uniform'}  \n",
       "25  {'n_neighbors': 13, 'weights': 'distance'}  \n",
       "26   {'n_neighbors': 14, 'weights': 'uniform'}  \n",
       "27  {'n_neighbors': 14, 'weights': 'distance'}  \n",
       "28   {'n_neighbors': 15, 'weights': 'uniform'}  \n",
       "29  {'n_neighbors': 15, 'weights': 'distance'}  \n",
       "..                                         ...  \n",
       "70   {'n_neighbors': 36, 'weights': 'uniform'}  \n",
       "71  {'n_neighbors': 36, 'weights': 'distance'}  \n",
       "72   {'n_neighbors': 37, 'weights': 'uniform'}  \n",
       "73  {'n_neighbors': 37, 'weights': 'distance'}  \n",
       "74   {'n_neighbors': 38, 'weights': 'uniform'}  \n",
       "75  {'n_neighbors': 38, 'weights': 'distance'}  \n",
       "76   {'n_neighbors': 39, 'weights': 'uniform'}  \n",
       "77  {'n_neighbors': 39, 'weights': 'distance'}  \n",
       "78   {'n_neighbors': 40, 'weights': 'uniform'}  \n",
       "79  {'n_neighbors': 40, 'weights': 'distance'}  \n",
       "80   {'n_neighbors': 41, 'weights': 'uniform'}  \n",
       "81  {'n_neighbors': 41, 'weights': 'distance'}  \n",
       "82   {'n_neighbors': 42, 'weights': 'uniform'}  \n",
       "83  {'n_neighbors': 42, 'weights': 'distance'}  \n",
       "84   {'n_neighbors': 43, 'weights': 'uniform'}  \n",
       "85  {'n_neighbors': 43, 'weights': 'distance'}  \n",
       "86   {'n_neighbors': 44, 'weights': 'uniform'}  \n",
       "87  {'n_neighbors': 44, 'weights': 'distance'}  \n",
       "88   {'n_neighbors': 45, 'weights': 'uniform'}  \n",
       "89  {'n_neighbors': 45, 'weights': 'distance'}  \n",
       "90   {'n_neighbors': 46, 'weights': 'uniform'}  \n",
       "91  {'n_neighbors': 46, 'weights': 'distance'}  \n",
       "92   {'n_neighbors': 47, 'weights': 'uniform'}  \n",
       "93  {'n_neighbors': 47, 'weights': 'distance'}  \n",
       "94   {'n_neighbors': 48, 'weights': 'uniform'}  \n",
       "95  {'n_neighbors': 48, 'weights': 'distance'}  \n",
       "96   {'n_neighbors': 49, 'weights': 'uniform'}  \n",
       "97  {'n_neighbors': 49, 'weights': 'distance'}  \n",
       "98   {'n_neighbors': 50, 'weights': 'uniform'}  \n",
       "99  {'n_neighbors': 50, 'weights': 'distance'}  \n",
       "\n",
       "[100 rows x 3 columns]"
      ]
     },
     "execution_count": 40,
     "metadata": {},
     "output_type": "execute_result"
    }
   ],
   "source": [
    "# To View the Results of the GridSearch\n",
    "pd.DataFrame(grid_search.cv_results_)[['mean_test_score', 'std_test_score', 'params']]"
   ]
  },
  {
   "cell_type": "code",
   "execution_count": 41,
   "metadata": {},
   "outputs": [
    {
     "name": "stdout",
     "output_type": "stream",
     "text": [
      "BEST ACCURACY SCORE:\n",
      "0.8345070422535211\n",
      "\n",
      "BEST PARAMETERS:\n",
      "{'n_neighbors': 22, 'weights': 'uniform'}\n"
     ]
    }
   ],
   "source": [
    "best_accuracy = grid_search.best_score_\n",
    "best_parameters = grid_search.best_params_\n",
    "\n",
    "print(\"BEST ACCURACY SCORE:\")\n",
    "print(best_accuracy)\n",
    "print('')\n",
    "\n",
    "print(\"BEST PARAMETERS:\")\n",
    "print(best_parameters)"
   ]
  },
  {
   "cell_type": "markdown",
   "metadata": {},
   "source": [
    "###### To Create New K-Nearest Neighbors Model Using the Optimal Parameters"
   ]
  },
  {
   "cell_type": "code",
   "execution_count": 54,
   "metadata": {},
   "outputs": [
    {
     "data": {
      "text/plain": [
       "Text(0,0.5,'Frequency')"
      ]
     },
     "execution_count": 54,
     "metadata": {},
     "output_type": "execute_result"
    },
    {
     "data": {
      "image/png": "[encoded data removed]",
      "text/plain": [
       "<Figure size 432x288 with 1 Axes>"
      ]
     },
     "metadata": {
      "needs_background": "light"
     },
     "output_type": "display_data"
    }
   ],
   "source": [
    "# To Instantiate the Model\n",
    "k_nearest_neighbors = KNeighborsClassifier(n_neighbors=21, weights='uniform')\n",
    "\n",
    "# To Fit the Training Dataset into K Nearest Neighbors Model\n",
    "k_nearest_neighbors.fit(X_train, Y_train)\n",
    "\n",
    "# To Predict the Output of the Training Dataset\n",
    "Y_predict_KNN = k_nearest_neighbors.predict(X_test)\n",
    "Y_predict_KNN\n",
    "\n",
    "# To Show the Histogram of Predicted Classification\n",
    "plot.hist(Y_predict_KNN, bins=12)\n",
    "plot.xlim(0, 11)\n",
    "plot.title('Histogram of Predicted Herbal Classification')\n",
    "plot.xlabel('Herbal Classification')\n",
    "plot.ylabel('Frequency')"
   ]
  },
  {
   "cell_type": "markdown",
   "metadata": {},
   "source": [
    "###### To Evaluate the Performance of the K-Nearest Neighbors Machine Model"
   ]
  },
  {
   "cell_type": "code",
   "execution_count": 55,
   "metadata": {},
   "outputs": [
    {
     "name": "stdout",
     "output_type": "stream",
     "text": [
      "CONFUSION MATRIX:\n",
      "[[10  8 12]\n",
      " [ 4 75  9]\n",
      " [ 2  4 89]]\n"
     ]
    }
   ],
   "source": [
    "# To Show the Confusion Matrix\n",
    "from sklearn.metrics import confusion_matrix\n",
    "print(\"CONFUSION MATRIX:\")\n",
    "print(confusion_matrix(Y_test, Y_predict_KNN))"
   ]
  },
  {
   "cell_type": "code",
   "execution_count": 56,
   "metadata": {},
   "outputs": [
    {
     "name": "stdout",
     "output_type": "stream",
     "text": [
      "Classification Accuracy: 0.8169\n",
      "\n"
     ]
    }
   ],
   "source": [
    "# For the Classification Accuracy\n",
    "from sklearn.metrics import accuracy_score\n",
    "classification_accuracy = accuracy_score(Y_test, Y_predict_KNN)\n",
    "print('Classification Accuracy: %.4f'\n",
    "      % classification_accuracy)\n",
    "print('')"
   ]
  },
  {
   "cell_type": "code",
   "execution_count": 57,
   "metadata": {},
   "outputs": [
    {
     "name": "stdout",
     "output_type": "stream",
     "text": [
      "CLASSIFICATION REPORT:\n",
      "             precision    recall  f1-score   support\n",
      "\n",
      "          0       0.62      0.33      0.43        30\n",
      "          1       0.86      0.85      0.86        88\n",
      "          2       0.81      0.94      0.87        95\n",
      "\n",
      "avg / total       0.81      0.82      0.80       213\n",
      "\n"
     ]
    }
   ],
   "source": [
    "# For the Classification Report\n",
    "from sklearn.metrics import classification_report\n",
    "print(\"CLASSIFICATION REPORT:\")\n",
    "print(classification_report(Y_test, Y_predict_KNN))"
   ]
  },
  {
   "cell_type": "markdown",
   "metadata": {},
   "source": [
    "#### C. To Create the Support Vector Machine Model "
   ]
  },
  {
   "cell_type": "code",
   "execution_count": 58,
   "metadata": {},
   "outputs": [
    {
     "data": {
      "text/plain": [
       "Text(0,0.5,'Frequency')"
      ]
     },
     "execution_count": 58,
     "metadata": {},
     "output_type": "execute_result"
    },
    {
     "data": {
      "image/png": "[encoded data removed]",
      "text/plain": [
       "<Figure size 432x288 with 1 Axes>"
      ]
     },
     "metadata": {
      "needs_background": "light"
     },
     "output_type": "display_data"
    }
   ],
   "source": [
    "# To Instantiate the Model (Using the Default Parameters)\n",
    "support_vector_machine = SVC(random_state=0)\n",
    "\n",
    "# To Fit the Training Dataset into Support Vector Machine Model\n",
    "support_vector_machine.fit(X_train, Y_train)\n",
    "\n",
    "# To Predict the Output of the Testing Dataset\n",
    "Y_predict_SVM = support_vector_machine.predict(X_test)\n",
    "Y_predict_SVM\n",
    "\n",
    "# To Show the Histogram of Predicted Classification\n",
    "plot.hist(Y_predict_SVM, bins=12)\n",
    "plot.xlim(0, 11)\n",
    "plot.title('Histogram of Predicted Herbal Classification')\n",
    "plot.xlabel('Herbal Classification')\n",
    "plot.ylabel('Frequency')"
   ]
  },
  {
   "cell_type": "markdown",
   "metadata": {},
   "source": [
    "###### To Evaluate the Performance of the Support Vector Machine Model"
   ]
  },
  {
   "cell_type": "code",
   "execution_count": 59,
   "metadata": {},
   "outputs": [
    {
     "name": "stdout",
     "output_type": "stream",
     "text": [
      "CONFUSION MATRIX:\n",
      "[[ 3  0 27]\n",
      " [ 0 14 74]\n",
      " [ 1  1 93]]\n"
     ]
    }
   ],
   "source": [
    "# To Show the Confusion Matrix\n",
    "from sklearn.metrics import confusion_matrix\n",
    "print(\"CONFUSION MATRIX:\")\n",
    "print(confusion_matrix(Y_test, Y_predict_SVM))"
   ]
  },
  {
   "cell_type": "code",
   "execution_count": 60,
   "metadata": {},
   "outputs": [
    {
     "name": "stdout",
     "output_type": "stream",
     "text": [
      "Classification Accuracy: 0.5164\n",
      "\n"
     ]
    }
   ],
   "source": [
    "# For the Classification Accuracy\n",
    "from sklearn.metrics import accuracy_score\n",
    "classification_accuracy = accuracy_score(Y_test, Y_predict_SVM)\n",
    "print('Classification Accuracy: %.4f'\n",
    "      % classification_accuracy)\n",
    "print('')"
   ]
  },
  {
   "cell_type": "code",
   "execution_count": 61,
   "metadata": {},
   "outputs": [
    {
     "name": "stdout",
     "output_type": "stream",
     "text": [
      "CLASSIFICATION REPORT:\n",
      "             precision    recall  f1-score   support\n",
      "\n",
      "          0       0.75      0.10      0.18        30\n",
      "          1       0.93      0.16      0.27        88\n",
      "          2       0.48      0.98      0.64        95\n",
      "\n",
      "avg / total       0.71      0.52      0.42       213\n",
      "\n"
     ]
    }
   ],
   "source": [
    "# For the Classification Report\n",
    "from sklearn.metrics import classification_report\n",
    "print(\"CLASSIFICATION REPORT:\")\n",
    "print(classification_report(Y_test, Y_predict_SVM))"
   ]
  },
  {
   "cell_type": "markdown",
   "metadata": {},
   "source": [
    "#### Applying GridSearch to find the Best Parameters for the Support Vector Machine Model"
   ]
  },
  {
   "cell_type": "code",
   "execution_count": 62,
   "metadata": {},
   "outputs": [
    {
     "name": "stdout",
     "output_type": "stream",
     "text": [
      "GridSearchCV(cv=KFold(n_splits=10, random_state=0, shuffle=False),\n",
      "       error_score='raise',\n",
      "       estimator=SVC(C=1.0, cache_size=200, class_weight=None, coef0=0.0,\n",
      "  decision_function_shape='ovr', degree=3, gamma='auto', kernel='rbf',\n",
      "  max_iter=-1, probability=False, random_state=0, shrinking=True,\n",
      "  tol=0.001, verbose=False),\n",
      "       fit_params=None, iid=True, n_jobs=-1,\n",
      "       param_grid=[{'C': [1, 10, 100, 1000], 'kernel': ['linear']}, {'C': [1, 10, 100, 1000], 'kernel': ['rbf'], 'gamma': [0.1, 0.2, 0.3, 0.4, 0.5, 0.6, 0.7, 0.8, 0.9]}],\n",
      "       pre_dispatch='2*n_jobs', refit=True, return_train_score='warn',\n",
      "       scoring='accuracy', verbose=0)\n"
     ]
    }
   ],
   "source": [
    "# To Import the kFold Class\n",
    "from sklearn.model_selection import KFold\n",
    "k_Fold = KFold (n_splits=10, shuffle=False, random_state=0)\n",
    "\n",
    "# To Import the GridSearch Class\n",
    "from sklearn.model_selection import GridSearchCV\n",
    "\n",
    "# To Set Parameters to be Optimized Under the Support Vector Machine Model\n",
    "parameters = [{'C': [1, 10, 100, 1000], 'kernel': ['linear']},\n",
    "              {'C': [1, 10, 100, 1000], 'kernel': ['rbf'], 'gamma': [0.1, 0.2, 0.3, 0.4, 0.5, 0.6, 0.7, 0.8, 0.9]}]\n",
    "grid_search = GridSearchCV(estimator = support_vector_machine,\n",
    "                           param_grid = parameters,\n",
    "                           scoring = 'accuracy',\n",
    "                           cv = k_Fold,\n",
    "                           n_jobs = -1)\n",
    "grid_search = grid_search.fit(X_train, Y_train)\n",
    "print(grid_search)"
   ]
  },
  {
   "cell_type": "code",
   "execution_count": 63,
   "metadata": {},
   "outputs": [
    {
     "name": "stderr",
     "output_type": "stream",
     "text": [
      "/anaconda3/lib/python3.7/site-packages/sklearn/utils/deprecation.py:122: FutureWarning: You are accessing a training score ('split0_train_score'), which will not be available by default any more in 0.21. If you need training scores, please set return_train_score=True\n",
      "  warnings.warn(*warn_args, **warn_kwargs)\n",
      "/anaconda3/lib/python3.7/site-packages/sklearn/utils/deprecation.py:122: FutureWarning: You are accessing a training score ('split1_train_score'), which will not be available by default any more in 0.21. If you need training scores, please set return_train_score=True\n",
      "  warnings.warn(*warn_args, **warn_kwargs)\n",
      "/anaconda3/lib/python3.7/site-packages/sklearn/utils/deprecation.py:122: FutureWarning: You are accessing a training score ('split2_train_score'), which will not be available by default any more in 0.21. If you need training scores, please set return_train_score=True\n",
      "  warnings.warn(*warn_args, **warn_kwargs)\n",
      "/anaconda3/lib/python3.7/site-packages/sklearn/utils/deprecation.py:122: FutureWarning: You are accessing a training score ('split3_train_score'), which will not be available by default any more in 0.21. If you need training scores, please set return_train_score=True\n",
      "  warnings.warn(*warn_args, **warn_kwargs)\n",
      "/anaconda3/lib/python3.7/site-packages/sklearn/utils/deprecation.py:122: FutureWarning: You are accessing a training score ('split4_train_score'), which will not be available by default any more in 0.21. If you need training scores, please set return_train_score=True\n",
      "  warnings.warn(*warn_args, **warn_kwargs)\n",
      "/anaconda3/lib/python3.7/site-packages/sklearn/utils/deprecation.py:122: FutureWarning: You are accessing a training score ('split5_train_score'), which will not be available by default any more in 0.21. If you need training scores, please set return_train_score=True\n",
      "  warnings.warn(*warn_args, **warn_kwargs)\n",
      "/anaconda3/lib/python3.7/site-packages/sklearn/utils/deprecation.py:122: FutureWarning: You are accessing a training score ('split6_train_score'), which will not be available by default any more in 0.21. If you need training scores, please set return_train_score=True\n",
      "  warnings.warn(*warn_args, **warn_kwargs)\n",
      "/anaconda3/lib/python3.7/site-packages/sklearn/utils/deprecation.py:122: FutureWarning: You are accessing a training score ('split7_train_score'), which will not be available by default any more in 0.21. If you need training scores, please set return_train_score=True\n",
      "  warnings.warn(*warn_args, **warn_kwargs)\n",
      "/anaconda3/lib/python3.7/site-packages/sklearn/utils/deprecation.py:122: FutureWarning: You are accessing a training score ('split8_train_score'), which will not be available by default any more in 0.21. If you need training scores, please set return_train_score=True\n",
      "  warnings.warn(*warn_args, **warn_kwargs)\n",
      "/anaconda3/lib/python3.7/site-packages/sklearn/utils/deprecation.py:122: FutureWarning: You are accessing a training score ('split9_train_score'), which will not be available by default any more in 0.21. If you need training scores, please set return_train_score=True\n",
      "  warnings.warn(*warn_args, **warn_kwargs)\n",
      "/anaconda3/lib/python3.7/site-packages/sklearn/utils/deprecation.py:122: FutureWarning: You are accessing a training score ('mean_train_score'), which will not be available by default any more in 0.21. If you need training scores, please set return_train_score=True\n",
      "  warnings.warn(*warn_args, **warn_kwargs)\n",
      "/anaconda3/lib/python3.7/site-packages/sklearn/utils/deprecation.py:122: FutureWarning: You are accessing a training score ('std_train_score'), which will not be available by default any more in 0.21. If you need training scores, please set return_train_score=True\n",
      "  warnings.warn(*warn_args, **warn_kwargs)\n"
     ]
    },
    {
     "data": {
      "text/html": [
       "<div>\n",
       "<style scoped>\n",
       "    .dataframe tbody tr th:only-of-type {\n",
       "        vertical-align: middle;\n",
       "    }\n",
       "\n",
       "    .dataframe tbody tr th {\n",
       "        vertical-align: top;\n",
       "    }\n",
       "\n",
       "    .dataframe thead th {\n",
       "        text-align: right;\n",
       "    }\n",
       "</style>\n",
       "<table border=\"1\" class=\"dataframe\">\n",
       "  <thead>\n",
       "    <tr style=\"text-align: right;\">\n",
       "      <th></th>\n",
       "      <th>mean_test_score</th>\n",
       "      <th>std_test_score</th>\n",
       "      <th>params</th>\n",
       "    </tr>\n",
       "  </thead>\n",
       "  <tbody>\n",
       "    <tr>\n",
       "      <th>0</th>\n",
       "      <td>0.830986</td>\n",
       "      <td>0.031460</td>\n",
       "      <td>{'C': 1, 'kernel': 'linear'}</td>\n",
       "    </tr>\n",
       "    <tr>\n",
       "      <th>1</th>\n",
       "      <td>0.832160</td>\n",
       "      <td>0.033507</td>\n",
       "      <td>{'C': 10, 'kernel': 'linear'}</td>\n",
       "    </tr>\n",
       "    <tr>\n",
       "      <th>2</th>\n",
       "      <td>0.836854</td>\n",
       "      <td>0.039235</td>\n",
       "      <td>{'C': 100, 'kernel': 'linear'}</td>\n",
       "    </tr>\n",
       "    <tr>\n",
       "      <th>3</th>\n",
       "      <td>0.836854</td>\n",
       "      <td>0.039235</td>\n",
       "      <td>{'C': 1000, 'kernel': 'linear'}</td>\n",
       "    </tr>\n",
       "    <tr>\n",
       "      <th>4</th>\n",
       "      <td>0.631455</td>\n",
       "      <td>0.064072</td>\n",
       "      <td>{'C': 1, 'gamma': 0.1, 'kernel': 'rbf'}</td>\n",
       "    </tr>\n",
       "    <tr>\n",
       "      <th>5</th>\n",
       "      <td>0.536385</td>\n",
       "      <td>0.063499</td>\n",
       "      <td>{'C': 1, 'gamma': 0.2, 'kernel': 'rbf'}</td>\n",
       "    </tr>\n",
       "    <tr>\n",
       "      <th>6</th>\n",
       "      <td>0.509390</td>\n",
       "      <td>0.062689</td>\n",
       "      <td>{'C': 1, 'gamma': 0.3, 'kernel': 'rbf'}</td>\n",
       "    </tr>\n",
       "    <tr>\n",
       "      <th>7</th>\n",
       "      <td>0.490610</td>\n",
       "      <td>0.062135</td>\n",
       "      <td>{'C': 1, 'gamma': 0.4, 'kernel': 'rbf'}</td>\n",
       "    </tr>\n",
       "    <tr>\n",
       "      <th>8</th>\n",
       "      <td>0.487089</td>\n",
       "      <td>0.062723</td>\n",
       "      <td>{'C': 1, 'gamma': 0.5, 'kernel': 'rbf'}</td>\n",
       "    </tr>\n",
       "    <tr>\n",
       "      <th>9</th>\n",
       "      <td>0.484742</td>\n",
       "      <td>0.059470</td>\n",
       "      <td>{'C': 1, 'gamma': 0.6, 'kernel': 'rbf'}</td>\n",
       "    </tr>\n",
       "    <tr>\n",
       "      <th>10</th>\n",
       "      <td>0.484742</td>\n",
       "      <td>0.059470</td>\n",
       "      <td>{'C': 1, 'gamma': 0.7, 'kernel': 'rbf'}</td>\n",
       "    </tr>\n",
       "    <tr>\n",
       "      <th>11</th>\n",
       "      <td>0.480047</td>\n",
       "      <td>0.064164</td>\n",
       "      <td>{'C': 1, 'gamma': 0.8, 'kernel': 'rbf'}</td>\n",
       "    </tr>\n",
       "    <tr>\n",
       "      <th>12</th>\n",
       "      <td>0.476526</td>\n",
       "      <td>0.062742</td>\n",
       "      <td>{'C': 1, 'gamma': 0.9, 'kernel': 'rbf'}</td>\n",
       "    </tr>\n",
       "    <tr>\n",
       "      <th>13</th>\n",
       "      <td>0.649061</td>\n",
       "      <td>0.051615</td>\n",
       "      <td>{'C': 10, 'gamma': 0.1, 'kernel': 'rbf'}</td>\n",
       "    </tr>\n",
       "    <tr>\n",
       "      <th>14</th>\n",
       "      <td>0.549296</td>\n",
       "      <td>0.065597</td>\n",
       "      <td>{'C': 10, 'gamma': 0.2, 'kernel': 'rbf'}</td>\n",
       "    </tr>\n",
       "    <tr>\n",
       "      <th>15</th>\n",
       "      <td>0.515258</td>\n",
       "      <td>0.064050</td>\n",
       "      <td>{'C': 10, 'gamma': 0.3, 'kernel': 'rbf'}</td>\n",
       "    </tr>\n",
       "    <tr>\n",
       "      <th>16</th>\n",
       "      <td>0.503521</td>\n",
       "      <td>0.057573</td>\n",
       "      <td>{'C': 10, 'gamma': 0.4, 'kernel': 'rbf'}</td>\n",
       "    </tr>\n",
       "    <tr>\n",
       "      <th>17</th>\n",
       "      <td>0.491784</td>\n",
       "      <td>0.061740</td>\n",
       "      <td>{'C': 10, 'gamma': 0.5, 'kernel': 'rbf'}</td>\n",
       "    </tr>\n",
       "    <tr>\n",
       "      <th>18</th>\n",
       "      <td>0.488263</td>\n",
       "      <td>0.061285</td>\n",
       "      <td>{'C': 10, 'gamma': 0.6, 'kernel': 'rbf'}</td>\n",
       "    </tr>\n",
       "    <tr>\n",
       "      <th>19</th>\n",
       "      <td>0.485915</td>\n",
       "      <td>0.059062</td>\n",
       "      <td>{'C': 10, 'gamma': 0.7, 'kernel': 'rbf'}</td>\n",
       "    </tr>\n",
       "    <tr>\n",
       "      <th>20</th>\n",
       "      <td>0.485915</td>\n",
       "      <td>0.059062</td>\n",
       "      <td>{'C': 10, 'gamma': 0.8, 'kernel': 'rbf'}</td>\n",
       "    </tr>\n",
       "    <tr>\n",
       "      <th>21</th>\n",
       "      <td>0.485915</td>\n",
       "      <td>0.059062</td>\n",
       "      <td>{'C': 10, 'gamma': 0.9, 'kernel': 'rbf'}</td>\n",
       "    </tr>\n",
       "    <tr>\n",
       "      <th>22</th>\n",
       "      <td>0.649061</td>\n",
       "      <td>0.051615</td>\n",
       "      <td>{'C': 100, 'gamma': 0.1, 'kernel': 'rbf'}</td>\n",
       "    </tr>\n",
       "    <tr>\n",
       "      <th>23</th>\n",
       "      <td>0.549296</td>\n",
       "      <td>0.065597</td>\n",
       "      <td>{'C': 100, 'gamma': 0.2, 'kernel': 'rbf'}</td>\n",
       "    </tr>\n",
       "    <tr>\n",
       "      <th>24</th>\n",
       "      <td>0.515258</td>\n",
       "      <td>0.064050</td>\n",
       "      <td>{'C': 100, 'gamma': 0.3, 'kernel': 'rbf'}</td>\n",
       "    </tr>\n",
       "    <tr>\n",
       "      <th>25</th>\n",
       "      <td>0.503521</td>\n",
       "      <td>0.057573</td>\n",
       "      <td>{'C': 100, 'gamma': 0.4, 'kernel': 'rbf'}</td>\n",
       "    </tr>\n",
       "    <tr>\n",
       "      <th>26</th>\n",
       "      <td>0.491784</td>\n",
       "      <td>0.061740</td>\n",
       "      <td>{'C': 100, 'gamma': 0.5, 'kernel': 'rbf'}</td>\n",
       "    </tr>\n",
       "    <tr>\n",
       "      <th>27</th>\n",
       "      <td>0.488263</td>\n",
       "      <td>0.061285</td>\n",
       "      <td>{'C': 100, 'gamma': 0.6, 'kernel': 'rbf'}</td>\n",
       "    </tr>\n",
       "    <tr>\n",
       "      <th>28</th>\n",
       "      <td>0.485915</td>\n",
       "      <td>0.059062</td>\n",
       "      <td>{'C': 100, 'gamma': 0.7, 'kernel': 'rbf'}</td>\n",
       "    </tr>\n",
       "    <tr>\n",
       "      <th>29</th>\n",
       "      <td>0.485915</td>\n",
       "      <td>0.059062</td>\n",
       "      <td>{'C': 100, 'gamma': 0.8, 'kernel': 'rbf'}</td>\n",
       "    </tr>\n",
       "    <tr>\n",
       "      <th>30</th>\n",
       "      <td>0.485915</td>\n",
       "      <td>0.059062</td>\n",
       "      <td>{'C': 100, 'gamma': 0.9, 'kernel': 'rbf'}</td>\n",
       "    </tr>\n",
       "    <tr>\n",
       "      <th>31</th>\n",
       "      <td>0.649061</td>\n",
       "      <td>0.051615</td>\n",
       "      <td>{'C': 1000, 'gamma': 0.1, 'kernel': 'rbf'}</td>\n",
       "    </tr>\n",
       "    <tr>\n",
       "      <th>32</th>\n",
       "      <td>0.549296</td>\n",
       "      <td>0.065597</td>\n",
       "      <td>{'C': 1000, 'gamma': 0.2, 'kernel': 'rbf'}</td>\n",
       "    </tr>\n",
       "    <tr>\n",
       "      <th>33</th>\n",
       "      <td>0.515258</td>\n",
       "      <td>0.064050</td>\n",
       "      <td>{'C': 1000, 'gamma': 0.3, 'kernel': 'rbf'}</td>\n",
       "    </tr>\n",
       "    <tr>\n",
       "      <th>34</th>\n",
       "      <td>0.503521</td>\n",
       "      <td>0.057573</td>\n",
       "      <td>{'C': 1000, 'gamma': 0.4, 'kernel': 'rbf'}</td>\n",
       "    </tr>\n",
       "    <tr>\n",
       "      <th>35</th>\n",
       "      <td>0.491784</td>\n",
       "      <td>0.061740</td>\n",
       "      <td>{'C': 1000, 'gamma': 0.5, 'kernel': 'rbf'}</td>\n",
       "    </tr>\n",
       "    <tr>\n",
       "      <th>36</th>\n",
       "      <td>0.488263</td>\n",
       "      <td>0.061285</td>\n",
       "      <td>{'C': 1000, 'gamma': 0.6, 'kernel': 'rbf'}</td>\n",
       "    </tr>\n",
       "    <tr>\n",
       "      <th>37</th>\n",
       "      <td>0.485915</td>\n",
       "      <td>0.059062</td>\n",
       "      <td>{'C': 1000, 'gamma': 0.7, 'kernel': 'rbf'}</td>\n",
       "    </tr>\n",
       "    <tr>\n",
       "      <th>38</th>\n",
       "      <td>0.485915</td>\n",
       "      <td>0.059062</td>\n",
       "      <td>{'C': 1000, 'gamma': 0.8, 'kernel': 'rbf'}</td>\n",
       "    </tr>\n",
       "    <tr>\n",
       "      <th>39</th>\n",
       "      <td>0.485915</td>\n",
       "      <td>0.059062</td>\n",
       "      <td>{'C': 1000, 'gamma': 0.9, 'kernel': 'rbf'}</td>\n",
       "    </tr>\n",
       "  </tbody>\n",
       "</table>\n",
       "</div>"
      ],
      "text/plain": [
       "    mean_test_score  std_test_score  \\\n",
       "0          0.830986        0.031460   \n",
       "1          0.832160        0.033507   \n",
       "2          0.836854        0.039235   \n",
       "3          0.836854        0.039235   \n",
       "4          0.631455        0.064072   \n",
       "5          0.536385        0.063499   \n",
       "6          0.509390        0.062689   \n",
       "7          0.490610        0.062135   \n",
       "8          0.487089        0.062723   \n",
       "9          0.484742        0.059470   \n",
       "10         0.484742        0.059470   \n",
       "11         0.480047        0.064164   \n",
       "12         0.476526        0.062742   \n",
       "13         0.649061        0.051615   \n",
       "14         0.549296        0.065597   \n",
       "15         0.515258        0.064050   \n",
       "16         0.503521        0.057573   \n",
       "17         0.491784        0.061740   \n",
       "18         0.488263        0.061285   \n",
       "19         0.485915        0.059062   \n",
       "20         0.485915        0.059062   \n",
       "21         0.485915        0.059062   \n",
       "22         0.649061        0.051615   \n",
       "23         0.549296        0.065597   \n",
       "24         0.515258        0.064050   \n",
       "25         0.503521        0.057573   \n",
       "26         0.491784        0.061740   \n",
       "27         0.488263        0.061285   \n",
       "28         0.485915        0.059062   \n",
       "29         0.485915        0.059062   \n",
       "30         0.485915        0.059062   \n",
       "31         0.649061        0.051615   \n",
       "32         0.549296        0.065597   \n",
       "33         0.515258        0.064050   \n",
       "34         0.503521        0.057573   \n",
       "35         0.491784        0.061740   \n",
       "36         0.488263        0.061285   \n",
       "37         0.485915        0.059062   \n",
       "38         0.485915        0.059062   \n",
       "39         0.485915        0.059062   \n",
       "\n",
       "                                        params  \n",
       "0                 {'C': 1, 'kernel': 'linear'}  \n",
       "1                {'C': 10, 'kernel': 'linear'}  \n",
       "2               {'C': 100, 'kernel': 'linear'}  \n",
       "3              {'C': 1000, 'kernel': 'linear'}  \n",
       "4      {'C': 1, 'gamma': 0.1, 'kernel': 'rbf'}  \n",
       "5      {'C': 1, 'gamma': 0.2, 'kernel': 'rbf'}  \n",
       "6      {'C': 1, 'gamma': 0.3, 'kernel': 'rbf'}  \n",
       "7      {'C': 1, 'gamma': 0.4, 'kernel': 'rbf'}  \n",
       "8      {'C': 1, 'gamma': 0.5, 'kernel': 'rbf'}  \n",
       "9      {'C': 1, 'gamma': 0.6, 'kernel': 'rbf'}  \n",
       "10     {'C': 1, 'gamma': 0.7, 'kernel': 'rbf'}  \n",
       "11     {'C': 1, 'gamma': 0.8, 'kernel': 'rbf'}  \n",
       "12     {'C': 1, 'gamma': 0.9, 'kernel': 'rbf'}  \n",
       "13    {'C': 10, 'gamma': 0.1, 'kernel': 'rbf'}  \n",
       "14    {'C': 10, 'gamma': 0.2, 'kernel': 'rbf'}  \n",
       "15    {'C': 10, 'gamma': 0.3, 'kernel': 'rbf'}  \n",
       "16    {'C': 10, 'gamma': 0.4, 'kernel': 'rbf'}  \n",
       "17    {'C': 10, 'gamma': 0.5, 'kernel': 'rbf'}  \n",
       "18    {'C': 10, 'gamma': 0.6, 'kernel': 'rbf'}  \n",
       "19    {'C': 10, 'gamma': 0.7, 'kernel': 'rbf'}  \n",
       "20    {'C': 10, 'gamma': 0.8, 'kernel': 'rbf'}  \n",
       "21    {'C': 10, 'gamma': 0.9, 'kernel': 'rbf'}  \n",
       "22   {'C': 100, 'gamma': 0.1, 'kernel': 'rbf'}  \n",
       "23   {'C': 100, 'gamma': 0.2, 'kernel': 'rbf'}  \n",
       "24   {'C': 100, 'gamma': 0.3, 'kernel': 'rbf'}  \n",
       "25   {'C': 100, 'gamma': 0.4, 'kernel': 'rbf'}  \n",
       "26   {'C': 100, 'gamma': 0.5, 'kernel': 'rbf'}  \n",
       "27   {'C': 100, 'gamma': 0.6, 'kernel': 'rbf'}  \n",
       "28   {'C': 100, 'gamma': 0.7, 'kernel': 'rbf'}  \n",
       "29   {'C': 100, 'gamma': 0.8, 'kernel': 'rbf'}  \n",
       "30   {'C': 100, 'gamma': 0.9, 'kernel': 'rbf'}  \n",
       "31  {'C': 1000, 'gamma': 0.1, 'kernel': 'rbf'}  \n",
       "32  {'C': 1000, 'gamma': 0.2, 'kernel': 'rbf'}  \n",
       "33  {'C': 1000, 'gamma': 0.3, 'kernel': 'rbf'}  \n",
       "34  {'C': 1000, 'gamma': 0.4, 'kernel': 'rbf'}  \n",
       "35  {'C': 1000, 'gamma': 0.5, 'kernel': 'rbf'}  \n",
       "36  {'C': 1000, 'gamma': 0.6, 'kernel': 'rbf'}  \n",
       "37  {'C': 1000, 'gamma': 0.7, 'kernel': 'rbf'}  \n",
       "38  {'C': 1000, 'gamma': 0.8, 'kernel': 'rbf'}  \n",
       "39  {'C': 1000, 'gamma': 0.9, 'kernel': 'rbf'}  "
      ]
     },
     "execution_count": 63,
     "metadata": {},
     "output_type": "execute_result"
    }
   ],
   "source": [
    "# To View the Results of the GridSearch\n",
    "pd.DataFrame(grid_search.cv_results_)[['mean_test_score', 'std_test_score', 'params']]"
   ]
  },
  {
   "cell_type": "code",
   "execution_count": 67,
   "metadata": {},
   "outputs": [
    {
     "name": "stdout",
     "output_type": "stream",
     "text": [
      "BEST ACCURACY SCORE:\n",
      "0.8368544600938967\n",
      "\n",
      "BEST PARAMETERS:\n",
      "{'C': 100, 'kernel': 'linear'}\n"
     ]
    }
   ],
   "source": [
    "best_accuracy = grid_search.best_score_\n",
    "best_parameters = grid_search.best_params_\n",
    "\n",
    "print(\"BEST ACCURACY SCORE:\")\n",
    "print(best_accuracy)\n",
    "print('')\n",
    "\n",
    "print(\"BEST PARAMETERS:\")\n",
    "print(best_parameters)"
   ]
  },
  {
   "cell_type": "markdown",
   "metadata": {},
   "source": [
    "###### To Create New Support Vector Machine Model Using the Optimized Parameters"
   ]
  },
  {
   "cell_type": "code",
   "execution_count": 73,
   "metadata": {},
   "outputs": [
    {
     "data": {
      "text/plain": [
       "Text(0,0.5,'Frequency')"
      ]
     },
     "execution_count": 73,
     "metadata": {},
     "output_type": "execute_result"
    },
    {
     "data": {
      "image/png": "[encoded data removed]",
      "text/plain": [
       "<Figure size 432x288 with 1 Axes>"
      ]
     },
     "metadata": {
      "needs_background": "light"
     },
     "output_type": "display_data"
    }
   ],
   "source": [
    "# To Instantiate the Model (Using the Optimized Parameters)\n",
    "state_vector_machine = SVC(C=100, kernel='linear', random_state=0)\n",
    "\n",
    "# To Fit the Training Dataset into Support Vector Machine Model\n",
    "state_vector_machine.fit(X_train, Y_train)\n",
    "\n",
    "# To Predict the Output of the Training Dataset\n",
    "Y_predict_SVM = state_vector_machine.predict(X_test)\n",
    "Y_predict_SVM\n",
    "\n",
    "# To Show the Histogram of Predicted Classification\n",
    "plot.hist(Y_predict_SVM, bins=12)\n",
    "plot.xlim(0, 11)\n",
    "plot.title('Histogram of Predicted Herbal Classification')\n",
    "plot.xlabel('Herbal Classification')\n",
    "plot.ylabel('Frequency')"
   ]
  },
  {
   "cell_type": "code",
   "execution_count": 74,
   "metadata": {},
   "outputs": [
    {
     "name": "stdout",
     "output_type": "stream",
     "text": [
      "CONFUSION MATRIX:\n",
      "[[12  7 11]\n",
      " [ 5 75  8]\n",
      " [ 3  3 89]]\n"
     ]
    }
   ],
   "source": [
    "# To Show the Confusion Matrix\n",
    "from sklearn.metrics import confusion_matrix\n",
    "print(\"CONFUSION MATRIX:\")\n",
    "print(confusion_matrix(Y_test, Y_predict_SVM))"
   ]
  },
  {
   "cell_type": "code",
   "execution_count": 75,
   "metadata": {},
   "outputs": [
    {
     "name": "stdout",
     "output_type": "stream",
     "text": [
      "Classification Accuracy: 0.8263\n",
      "\n"
     ]
    }
   ],
   "source": [
    "# For the Classification Accuracy\n",
    "from sklearn.metrics import accuracy_score\n",
    "classification_accuracy = accuracy_score(Y_test, Y_predict_SVM)\n",
    "print('Classification Accuracy: %.4f'\n",
    "      % classification_accuracy)\n",
    "print('')"
   ]
  },
  {
   "cell_type": "code",
   "execution_count": 76,
   "metadata": {},
   "outputs": [
    {
     "name": "stdout",
     "output_type": "stream",
     "text": [
      "CLASSIFICATION REPORT:\n",
      "             precision    recall  f1-score   support\n",
      "\n",
      "          0       0.60      0.40      0.48        30\n",
      "          1       0.88      0.85      0.87        88\n",
      "          2       0.82      0.94      0.88        95\n",
      "\n",
      "avg / total       0.82      0.83      0.82       213\n",
      "\n"
     ]
    }
   ],
   "source": [
    "# For the Classification Report\n",
    "from sklearn.metrics import classification_report\n",
    "print(\"CLASSIFICATION REPORT:\")\n",
    "print(classification_report(Y_test, Y_predict_SVM))"
   ]
  },
  {
   "cell_type": "markdown",
   "metadata": {},
   "source": [
    "###### earoxas2019 & rgdeluna2018"
   ]
  },
  {
   "cell_type": "code",
   "execution_count": null,
   "metadata": {},
   "outputs": [],
   "source": []
  }
 ],
 "metadata": {
  "kernelspec": {
   "display_name": "Python 3",
   "language": "python",
   "name": "python3"
  },
  "language_info": {
   "codemirror_mode": {
    "name": "ipython",
    "version": 3
   },
   "file_extension": ".py",
   "mimetype": "text/x-python",
   "name": "python",
   "nbconvert_exporter": "python",
   "pygments_lexer": "ipython3",
   "version": "3.7.0"
  }
 },
 "nbformat": 4,
 "nbformat_minor": 2
}
